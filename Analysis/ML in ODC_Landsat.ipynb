{
 "cells": [
  {
   "cell_type": "code",
   "execution_count": 2,
   "id": "93516b99-fbb1-4d74-954a-99beb635837a",
   "metadata": {},
   "outputs": [],
   "source": [
    "%matplotlib inline\n",
    "\n",
    "import os\n",
    "import datacube\n",
    "import warnings\n",
    "import pydotplus\n",
    "import numpy as np\n",
    "import geopandas as gpd\n",
    "from io import StringIO\n",
    "from joblib import dump\n",
    "from pprint import pprint\n",
    "import matplotlib.pyplot as plt\n",
    "from IPython.display import Image\n",
    "from odc.io.cgroups import get_cpu_quota\n",
    "from sklearn import tree, model_selection\n",
    "from sklearn.metrics import accuracy_score\n",
    "from osgeo import gdal\n",
    "from datacube.utils.cog import write_cog\n",
    "# from reo_cogeo.cogeo import translate_cog\n",
    "\n",
    "from deafrica_tools.plotting import map_shapefile, rgb\n",
    "from deafrica_tools.classification import predict_xr, collect_training_data\n",
    "from deafrica_tools.bandindices import calculate_indices"
   ]
  },
  {
   "cell_type": "code",
   "execution_count": 3,
   "id": "b45afeec-0567-455c-a792-c5641c254fb1",
   "metadata": {},
   "outputs": [],
   "source": [
    "warnings.filterwarnings('ignore')"
   ]
  },
  {
   "cell_type": "code",
   "execution_count": 4,
   "id": "a7ba3d7c-0eee-4804-aaf1-bf8a38555ecd",
   "metadata": {},
   "outputs": [],
   "source": [
    "dc = datacube.Datacube(app='ML_with_ODC')"
   ]
  },
  {
   "cell_type": "code",
   "execution_count": 1,
   "id": "30c6c393-9007-4313-8e53-9cd4a2ea751d",
   "metadata": {
    "jupyter": {
     "source_hidden": true
    },
    "tags": []
   },
   "outputs": [],
   "source": [
    "# lat_range = (15.75418332, 15.85828652)\n",
    "# lon_range = (80.78694696, 81.02203692)\n",
    "# time_range = ('2022-01-15', '2023-02-15')\n",
    "# # display_map(x=lon_range, y=lat_range)\n",
    "# ds = dc.load(product=\"s2a_sen2cor_granule\",\n",
    "#              x=lon_range,\n",
    "#              y=lat_range,\n",
    "#              time=time_range,\n",
    "#              output_crs='EPSG:6933',\n",
    "#              resolution=(-30, 30))\n",
    "# output_cog = 's2_with_bcmad.tif'\n",
    "# translate_cog(ds, output_cog, overwrite=True)\n",
    "# import rasterio\n",
    "\n",
    "# # Open Sentinel-2 image and read metadata\n",
    "# with rasterio.open('sentinel2.tif') as src:\n",
    "#     profile = src.profile\n",
    "#     image = src.read()\n",
    "\n",
    "# # Compute BCMAD band\n",
    "# b, c, m, a, d = image[1], image[2], image[3], image[6], image[7]\n",
    "# bc = b - c\n",
    "# am = a - m\n",
    "# bc_ad = bc - am\n",
    "# bcmad = bc_ad / (bc + am)\n",
    "\n",
    "# # Update metadata to include BCMAD band\n",
    "# profile.update(count=3)\n",
    "\n",
    "# # Write new image with BCMAD band\n",
    "# with rasterio.open('sentinel2_bcmad.tif', 'w', **profile) as dst:\n",
    "#     dst.write(image[:4], 1)\n",
    "#     dst.write(bcmad, 4)\n",
    "#     dst.write(image[4:], 5)\n",
    "\n",
    "\n",
    "\n",
    "# import os\n",
    "# from osgeo import gdal\n",
    "\n",
    "# # set the output file name and format\n",
    "# out_vrt = './sentinel2.vrt'\n",
    "# out_tif = './sentinel2.tif'\n",
    "# gdalformat = 'GTiff'\n",
    "\n",
    "# # set the resolution in meters\n",
    "# xres = 10\n",
    "# yres = -10\n",
    "\n",
    "# # set the common projection and extent\n",
    "# projection = 'EPSG:4326'\n",
    "# xmin, ymin, xmax, ymax = (80.78694696, 15.75418332, 81.02203692, 15.85828652) # set the extent of your area of interest\n",
    "\n",
    "# # get a list of all the input bands\n",
    "# temp1 = './S2A_MSIL2A_20230209T045941_N0509_R119_T44PMC_20230209T085054.SAFE/GRANULE/L2A_T44PMC_A039870_20230209T050547/IMG_DATA/R10m'\n",
    "# # temp2 = './S2A_MSIL2A_20230209T045941_N0509_R119_T44PMC_20230209T085054.SAFE/GRANULE/L2A_T44PMC_A039870_20230209T050547/IMG_DATA/R20m'\n",
    "# input_bands = [f'{temp1}/T44PMC_20230209T045941_B02_10m.jp2', f'{temp1}/T44PMC_20230209T045941_B03_10m.jp2', f'{temp1}/T44PMC_20230209T045941_B04_10m.jp2', f'{temp1}/T44PMC_20230209T045941_B08_10m.jp2']\n",
    "\n",
    "# # resample all the bands to a common resolution\n",
    "# resampled_bands = []\n",
    "# for band in input_bands:\n",
    "#     # set the output band file name\n",
    "#     out_band = os.path.splitext(band)[0] + '_resampled.jp2'\n",
    "    \n",
    "#     # resample the band\n",
    "#     os.system(f\"gdalwarp -r cubic -t_srs {projection} -te {xmin} {ymin} {xmax} {ymax} -tr {xres} {yres} {band} {out_band}\")\n",
    "    \n",
    "#     resampled_bands.append(out_band)\n",
    "\n",
    "# # create a virtual raster file (.vrt) to stack all the bands\n",
    "# os.system(f\"gdalbuildvrt -separate {out_vrt} {' '.join(resampled_bands)}\")\n",
    "\n",
    "# # convert the virtual raster file to a GeoTIFF file\n",
    "# os.system(f\"gdal_translate -of {gdalformat} {out_vrt} {out_tif}\")\n",
    "\n"
   ]
  },
  {
   "cell_type": "code",
   "execution_count": 8,
   "id": "185a264a-d610-468c-9f55-a849a5fd1481",
   "metadata": {},
   "outputs": [],
   "source": [
    "lat, long = 15.80, 80.90 # Kampala, Uganda\n",
    "buffer = 0.15\n",
    "path = '../clipped shape file/clipped_mangroves.shp'\n",
    "field = 'PXLVAL'\n",
    "products = 'landsat_8_c2_l2'\n",
    "measurements =  ['blue','green','red','B08_10m','B11_20m','B12_20m', 'BCMAD', 'EMAD', 'SMAD']\n",
    "time = ('2022')\n",
    "zonal_stats = None #'median'\n",
    "resolution =  (-30, 30)\n",
    "# ds = calculate_indices(ds, index='BCMAD', collection='sentinel_2')"
   ]
  },
  {
   "cell_type": "code",
   "execution_count": 6,
   "id": "78d1d6a5-11d1-4cbb-85cb-c9da5f588e39",
   "metadata": {
    "tags": []
   },
   "outputs": [
    {
     "name": "stdout",
     "output_type": "stream",
     "text": [
      "ncpus = None\n"
     ]
    }
   ],
   "source": [
    "ncpus=get_cpu_quota()\n",
    "print('ncpus = '+str(ncpus))"
   ]
  },
  {
   "cell_type": "code",
   "execution_count": 9,
   "id": "310d1418-a2da-4b92-9790-e312c47e1628",
   "metadata": {},
   "outputs": [
    {
     "data": {
      "application/vnd.jupyter.widget-view+json": {
       "model_id": "5f26e804929e49f4bae01ae5384a1b05",
       "version_major": 2,
       "version_minor": 0
      },
      "text/plain": [
       "Label(value='')"
      ]
     },
     "metadata": {},
     "output_type": "display_data"
    },
    {
     "data": {
      "application/vnd.jupyter.widget-view+json": {
       "model_id": "05f10eee039d4ce8b89bd1a985b15dbb",
       "version_major": 2,
       "version_minor": 0
      },
      "text/plain": [
       "Map(center=[15.966111111111646, 80.89622222222184], controls=(ZoomControl(options=['position', 'zoom_in_text',…"
      ]
     },
     "metadata": {},
     "output_type": "display_data"
    }
   ],
   "source": [
    "#open shapefile and ensure its in WGS84 coordinates\n",
    "input_data = gpd.read_file(path).to_crs('epsg:4326')\n",
    "\n",
    "#check the shapfile by plotting it\n",
    "map_shapefile(input_data, attribute=field)"
   ]
  },
  {
   "cell_type": "code",
   "execution_count": 8,
   "id": "d4b7a528-1e93-45e0-b1de-c465319c4fa2",
   "metadata": {},
   "outputs": [],
   "source": [
    "def feature_function(query):\n",
    "    dc = datacube.Datacube(app='feature_layers')\n",
    "    ds = dc.load(**query)\n",
    "    ds = ds.mean('time')\n",
    "    return ds"
   ]
  },
  {
   "cell_type": "code",
   "execution_count": 9,
   "id": "06d701c1-9fc3-4f1f-855d-eb16e7939d9f",
   "metadata": {},
   "outputs": [],
   "source": [
    "def feature_layers(query):\n",
    "    #connect to the datacube\n",
    "    dc = datacube.Datacube(app='feature_layers')\n",
    "\n",
    "    #load ls8 geomedian\n",
    "    ds = dc.load(product=products,\n",
    "                 **query)\n",
    "\n",
    "    #calculate some band indices\n",
    "    ds = calculate_indices(ds,\n",
    "                           index=['NDVI', 'BUI', 'MNDWI'],\n",
    "                           drop=False,\n",
    "                           satellite_mission='s2')\n",
    "\n",
    "    return ds"
   ]
  },
  {
   "cell_type": "code",
   "execution_count": 10,
   "id": "5e571e4b-4b4d-4f4c-9965-7a4e16e826b3",
   "metadata": {},
   "outputs": [],
   "source": [
    "# import rasterio\n",
    "\n",
    "# # Load Sentinel-2 bands 6, 7, and 8\n",
    "# temp1 = './S2A_MSIL2A_20230209T045941_N0509_R119_T44PMC_20230209T085054.SAFE/GRANULE/L2A_T44PMC_A039870_20230209T050547/IMG_DATA/R20m'\n",
    "# with rasterio.open(f'{temp1}/B06_20m.jp2') as b6:\n",
    "#     B6 = b6.read(1)\n",
    "# with rasterio.open(f'{temp1}/B07_20m.jp2') as b7:\n",
    "#     B7 = b7.read(1)\n",
    "# with rasterio.open(f'{temp1}/B08_20m.jp2') as b8:\n",
    "#     B8 = b8.read(1)\n",
    "\n",
    "# # Calculate BCMAD\n",
    "# BCMAD = (1 - (B8 / B7)) * (1 - (B6 / B7)) * (B8 / B6)\n",
    "\n",
    "# # Save BCMAD to a new GeoTIFF file\n",
    "# with rasterio.open('path/to/BCMAD.tif', 'w', \n",
    "#                    driver='GTiff', \n",
    "#                    height=BCMAD.shape[0], \n",
    "#                    width=BCMAD.shape[1], \n",
    "#                    count=1, \n",
    "#                    dtype=BCMAD.dtype, \n",
    "#                    crs=b6.crs, \n",
    "#                    transform=b6.transform) as dst:\n",
    "#     dst.write(BCMAD, 1)"
   ]
  },
  {
   "cell_type": "code",
   "execution_count": 11,
   "id": "ff64aa6c-4c26-40eb-ab3f-ff3fc07bf527",
   "metadata": {},
   "outputs": [],
   "source": [
    "#generate a datacube query object\n",
    "query = {\n",
    "    'time': time,\n",
    "    'measurements': measurements,\n",
    "    'resolution': resolution,\n",
    "    'output_crs' : 'epsg:6933'\n",
    "}"
   ]
  },
  {
   "cell_type": "code",
   "execution_count": 12,
   "id": "cbd082d5-8be5-49c5-af81-da4c06fe5bac",
   "metadata": {},
   "outputs": [
    {
     "name": "stdout",
     "output_type": "stream",
     "text": [
      "Collecting training data in serial mode\n",
      " Feature 0001/2153\r"
     ]
    },
    {
     "ename": "ValueError",
     "evalue": "Please verify that all bands required to compute NDVI are present in `ds`.",
     "output_type": "error",
     "traceback": [
      "\u001b[0;31m---------------------------------------------------------------------------\u001b[0m",
      "\u001b[0;31mAttributeError\u001b[0m                            Traceback (most recent call last)",
      "File \u001b[0;32m~/anaconda3/envs/odc_env/lib/python3.8/site-packages/deafrica_tools/bandindices.py:435\u001b[0m, in \u001b[0;36mcalculate_indices\u001b[0;34m(ds, index, collection, satellite_mission, custom_varname, normalise, drop, deep_copy)\u001b[0m\n\u001b[1;32m    434\u001b[0m     mult \u001b[38;5;241m=\u001b[39m sr_max \u001b[38;5;28;01mif\u001b[39;00m normalise \u001b[38;5;28;01melse\u001b[39;00m \u001b[38;5;241m1.0\u001b[39m\n\u001b[0;32m--> 435\u001b[0m     index_array \u001b[38;5;241m=\u001b[39m \u001b[43mindex_func\u001b[49m\u001b[43m(\u001b[49m\u001b[43mds\u001b[49m\u001b[38;5;241;43m.\u001b[39;49m\u001b[43mrename\u001b[49m\u001b[43m(\u001b[49m\u001b[43mbands_to_rename\u001b[49m\u001b[43m)\u001b[49m\u001b[43m \u001b[49m\u001b[38;5;241;43m/\u001b[39;49m\u001b[43m \u001b[49m\u001b[43mmult\u001b[49m\u001b[43m)\u001b[49m\n\u001b[1;32m    437\u001b[0m \u001b[38;5;28;01mexcept\u001b[39;00m \u001b[38;5;167;01mAttributeError\u001b[39;00m:\n",
      "File \u001b[0;32m~/anaconda3/envs/odc_env/lib/python3.8/site-packages/deafrica_tools/bandindices.py:141\u001b[0m, in \u001b[0;36mcalculate_indices.<locals>.<lambda>\u001b[0;34m(ds)\u001b[0m\n\u001b[1;32m    138\u001b[0m \u001b[38;5;66;03m# Dictionary containing remote sensing index band recipes\u001b[39;00m\n\u001b[1;32m    139\u001b[0m index_dict \u001b[38;5;241m=\u001b[39m {\n\u001b[1;32m    140\u001b[0m     \u001b[38;5;66;03m# Normalised Difference Vegation Index, Rouse 1973\u001b[39;00m\n\u001b[0;32m--> 141\u001b[0m     \u001b[38;5;124m\"\u001b[39m\u001b[38;5;124mNDVI\u001b[39m\u001b[38;5;124m\"\u001b[39m: \u001b[38;5;28;01mlambda\u001b[39;00m ds: (\u001b[43mds\u001b[49m\u001b[38;5;241;43m.\u001b[39;49m\u001b[43mnir\u001b[49m \u001b[38;5;241m-\u001b[39m ds\u001b[38;5;241m.\u001b[39mred) \u001b[38;5;241m/\u001b[39m (ds\u001b[38;5;241m.\u001b[39mnir \u001b[38;5;241m+\u001b[39m ds\u001b[38;5;241m.\u001b[39mred),\n\u001b[1;32m    142\u001b[0m     \u001b[38;5;66;03m# Enhanced Vegetation Index, Huete 2002\u001b[39;00m\n\u001b[1;32m    143\u001b[0m     \u001b[38;5;124m\"\u001b[39m\u001b[38;5;124mEVI\u001b[39m\u001b[38;5;124m\"\u001b[39m: \u001b[38;5;28;01mlambda\u001b[39;00m ds: (\n\u001b[1;32m    144\u001b[0m         (\u001b[38;5;241m2.5\u001b[39m \u001b[38;5;241m*\u001b[39m (ds\u001b[38;5;241m.\u001b[39mnir \u001b[38;5;241m-\u001b[39m ds\u001b[38;5;241m.\u001b[39mred)) \u001b[38;5;241m/\u001b[39m (ds\u001b[38;5;241m.\u001b[39mnir \u001b[38;5;241m+\u001b[39m \u001b[38;5;241m6\u001b[39m \u001b[38;5;241m*\u001b[39m ds\u001b[38;5;241m.\u001b[39mred \u001b[38;5;241m-\u001b[39m \u001b[38;5;241m7.5\u001b[39m \u001b[38;5;241m*\u001b[39m ds\u001b[38;5;241m.\u001b[39mblue \u001b[38;5;241m+\u001b[39m \u001b[38;5;241m1\u001b[39m)\n\u001b[1;32m    145\u001b[0m     ),\n\u001b[1;32m    146\u001b[0m     \u001b[38;5;66;03m# Leaf Area Index, Boegh 2002\u001b[39;00m\n\u001b[1;32m    147\u001b[0m     \u001b[38;5;124m\"\u001b[39m\u001b[38;5;124mLAI\u001b[39m\u001b[38;5;124m\"\u001b[39m: \u001b[38;5;28;01mlambda\u001b[39;00m ds: (\n\u001b[1;32m    148\u001b[0m         \u001b[38;5;241m3.618\u001b[39m\n\u001b[1;32m    149\u001b[0m         \u001b[38;5;241m*\u001b[39m ((\u001b[38;5;241m2.5\u001b[39m \u001b[38;5;241m*\u001b[39m (ds\u001b[38;5;241m.\u001b[39mnir \u001b[38;5;241m-\u001b[39m ds\u001b[38;5;241m.\u001b[39mred)) \u001b[38;5;241m/\u001b[39m (ds\u001b[38;5;241m.\u001b[39mnir \u001b[38;5;241m+\u001b[39m \u001b[38;5;241m6\u001b[39m \u001b[38;5;241m*\u001b[39m ds\u001b[38;5;241m.\u001b[39mred \u001b[38;5;241m-\u001b[39m \u001b[38;5;241m7.5\u001b[39m \u001b[38;5;241m*\u001b[39m ds\u001b[38;5;241m.\u001b[39mblue \u001b[38;5;241m+\u001b[39m \u001b[38;5;241m1\u001b[39m))\n\u001b[1;32m    150\u001b[0m         \u001b[38;5;241m-\u001b[39m \u001b[38;5;241m0.118\u001b[39m\n\u001b[1;32m    151\u001b[0m     ),\n\u001b[1;32m    152\u001b[0m     \u001b[38;5;66;03m# Soil Adjusted Vegetation Index, Huete 1988\u001b[39;00m\n\u001b[1;32m    153\u001b[0m     \u001b[38;5;124m\"\u001b[39m\u001b[38;5;124mSAVI\u001b[39m\u001b[38;5;124m\"\u001b[39m: \u001b[38;5;28;01mlambda\u001b[39;00m ds: ((\u001b[38;5;241m1.5\u001b[39m \u001b[38;5;241m*\u001b[39m (ds\u001b[38;5;241m.\u001b[39mnir \u001b[38;5;241m-\u001b[39m ds\u001b[38;5;241m.\u001b[39mred)) \u001b[38;5;241m/\u001b[39m (ds\u001b[38;5;241m.\u001b[39mnir \u001b[38;5;241m+\u001b[39m ds\u001b[38;5;241m.\u001b[39mred \u001b[38;5;241m+\u001b[39m \u001b[38;5;241m0.5\u001b[39m)),\n\u001b[1;32m    154\u001b[0m     \u001b[38;5;66;03m# Mod. Soil Adjusted Vegetation Index, Qi et al. 1994\u001b[39;00m\n\u001b[1;32m    155\u001b[0m     \u001b[38;5;124m\"\u001b[39m\u001b[38;5;124mMSAVI\u001b[39m\u001b[38;5;124m\"\u001b[39m: \u001b[38;5;28;01mlambda\u001b[39;00m ds: (\n\u001b[1;32m    156\u001b[0m         (\u001b[38;5;241m2\u001b[39m \u001b[38;5;241m*\u001b[39m ds\u001b[38;5;241m.\u001b[39mnir \u001b[38;5;241m+\u001b[39m \u001b[38;5;241m1\u001b[39m \u001b[38;5;241m-\u001b[39m ((\u001b[38;5;241m2\u001b[39m \u001b[38;5;241m*\u001b[39m ds\u001b[38;5;241m.\u001b[39mnir \u001b[38;5;241m+\u001b[39m \u001b[38;5;241m1\u001b[39m) \u001b[38;5;241m*\u001b[39m\u001b[38;5;241m*\u001b[39m \u001b[38;5;241m2\u001b[39m \u001b[38;5;241m-\u001b[39m \u001b[38;5;241m8\u001b[39m \u001b[38;5;241m*\u001b[39m (ds\u001b[38;5;241m.\u001b[39mnir \u001b[38;5;241m-\u001b[39m ds\u001b[38;5;241m.\u001b[39mred)) \u001b[38;5;241m*\u001b[39m\u001b[38;5;241m*\u001b[39m \u001b[38;5;241m0.5\u001b[39m)\n\u001b[1;32m    157\u001b[0m         \u001b[38;5;241m/\u001b[39m \u001b[38;5;241m2\u001b[39m\n\u001b[1;32m    158\u001b[0m     ),\n\u001b[1;32m    159\u001b[0m     \u001b[38;5;66;03m# Normalised Difference Moisture Index, Gao 1996\u001b[39;00m\n\u001b[1;32m    160\u001b[0m     \u001b[38;5;124m\"\u001b[39m\u001b[38;5;124mNDMI\u001b[39m\u001b[38;5;124m\"\u001b[39m: \u001b[38;5;28;01mlambda\u001b[39;00m ds: (ds\u001b[38;5;241m.\u001b[39mnir \u001b[38;5;241m-\u001b[39m ds\u001b[38;5;241m.\u001b[39mswir_1) \u001b[38;5;241m/\u001b[39m (ds\u001b[38;5;241m.\u001b[39mnir \u001b[38;5;241m+\u001b[39m ds\u001b[38;5;241m.\u001b[39mswir_1),\n\u001b[1;32m    161\u001b[0m     \u001b[38;5;66;03m# Normalised Burn Ratio, Lopez Garcia 1991\u001b[39;00m\n\u001b[1;32m    162\u001b[0m     \u001b[38;5;124m\"\u001b[39m\u001b[38;5;124mNBR\u001b[39m\u001b[38;5;124m\"\u001b[39m: \u001b[38;5;28;01mlambda\u001b[39;00m ds: (ds\u001b[38;5;241m.\u001b[39mnir \u001b[38;5;241m-\u001b[39m ds\u001b[38;5;241m.\u001b[39mswir_2) \u001b[38;5;241m/\u001b[39m (ds\u001b[38;5;241m.\u001b[39mnir \u001b[38;5;241m+\u001b[39m ds\u001b[38;5;241m.\u001b[39mswir_2),\n\u001b[1;32m    163\u001b[0m     \u001b[38;5;66;03m# Burn Area Index, Martin 1998\u001b[39;00m\n\u001b[1;32m    164\u001b[0m     \u001b[38;5;124m\"\u001b[39m\u001b[38;5;124mBAI\u001b[39m\u001b[38;5;124m\"\u001b[39m: \u001b[38;5;28;01mlambda\u001b[39;00m ds: (\u001b[38;5;241m1.0\u001b[39m \u001b[38;5;241m/\u001b[39m ((\u001b[38;5;241m0.10\u001b[39m \u001b[38;5;241m-\u001b[39m ds\u001b[38;5;241m.\u001b[39mred) \u001b[38;5;241m*\u001b[39m\u001b[38;5;241m*\u001b[39m \u001b[38;5;241m2\u001b[39m \u001b[38;5;241m+\u001b[39m (\u001b[38;5;241m0.06\u001b[39m \u001b[38;5;241m-\u001b[39m ds\u001b[38;5;241m.\u001b[39mnir) \u001b[38;5;241m*\u001b[39m\u001b[38;5;241m*\u001b[39m \u001b[38;5;241m2\u001b[39m)),\n\u001b[1;32m    165\u001b[0m     \u001b[38;5;66;03m# Normalised Difference Chlorophyll Index,\u001b[39;00m\n\u001b[1;32m    166\u001b[0m     \u001b[38;5;66;03m# (Mishra & Mishra, 2012)\u001b[39;00m\n\u001b[1;32m    167\u001b[0m     \u001b[38;5;124m\"\u001b[39m\u001b[38;5;124mNDCI\u001b[39m\u001b[38;5;124m\"\u001b[39m: \u001b[38;5;28;01mlambda\u001b[39;00m ds: (ds\u001b[38;5;241m.\u001b[39mred_edge_1 \u001b[38;5;241m-\u001b[39m ds\u001b[38;5;241m.\u001b[39mred) \u001b[38;5;241m/\u001b[39m (ds\u001b[38;5;241m.\u001b[39mred_edge_1 \u001b[38;5;241m+\u001b[39m ds\u001b[38;5;241m.\u001b[39mred),\n\u001b[1;32m    168\u001b[0m     \u001b[38;5;66;03m# Normalised Difference Snow Index, Hall 1995\u001b[39;00m\n\u001b[1;32m    169\u001b[0m     \u001b[38;5;124m\"\u001b[39m\u001b[38;5;124mNDSI\u001b[39m\u001b[38;5;124m\"\u001b[39m: \u001b[38;5;28;01mlambda\u001b[39;00m ds: (ds\u001b[38;5;241m.\u001b[39mgreen \u001b[38;5;241m-\u001b[39m ds\u001b[38;5;241m.\u001b[39mswir_1) \u001b[38;5;241m/\u001b[39m (ds\u001b[38;5;241m.\u001b[39mgreen \u001b[38;5;241m+\u001b[39m ds\u001b[38;5;241m.\u001b[39mswir_1),\n\u001b[1;32m    170\u001b[0m     \u001b[38;5;66;03m# Normalised Difference Water Index, McFeeters 1996\u001b[39;00m\n\u001b[1;32m    171\u001b[0m     \u001b[38;5;124m\"\u001b[39m\u001b[38;5;124mNDWI\u001b[39m\u001b[38;5;124m\"\u001b[39m: \u001b[38;5;28;01mlambda\u001b[39;00m ds: (ds\u001b[38;5;241m.\u001b[39mgreen \u001b[38;5;241m-\u001b[39m ds\u001b[38;5;241m.\u001b[39mnir) \u001b[38;5;241m/\u001b[39m (ds\u001b[38;5;241m.\u001b[39mgreen \u001b[38;5;241m+\u001b[39m ds\u001b[38;5;241m.\u001b[39mnir),\n\u001b[1;32m    172\u001b[0m     \u001b[38;5;66;03m# Modified Normalised Difference Water Index, Xu 2006\u001b[39;00m\n\u001b[1;32m    173\u001b[0m     \u001b[38;5;124m\"\u001b[39m\u001b[38;5;124mMNDWI\u001b[39m\u001b[38;5;124m\"\u001b[39m: \u001b[38;5;28;01mlambda\u001b[39;00m ds: (ds\u001b[38;5;241m.\u001b[39mgreen \u001b[38;5;241m-\u001b[39m ds\u001b[38;5;241m.\u001b[39mswir_1) \u001b[38;5;241m/\u001b[39m (ds\u001b[38;5;241m.\u001b[39mgreen \u001b[38;5;241m+\u001b[39m ds\u001b[38;5;241m.\u001b[39mswir_1),\n\u001b[1;32m    174\u001b[0m     \u001b[38;5;66;03m# Normalised Difference Built-Up Index, Zha 2003\u001b[39;00m\n\u001b[1;32m    175\u001b[0m     \u001b[38;5;124m\"\u001b[39m\u001b[38;5;124mNDBI\u001b[39m\u001b[38;5;124m\"\u001b[39m: \u001b[38;5;28;01mlambda\u001b[39;00m ds: (ds\u001b[38;5;241m.\u001b[39mswir_1 \u001b[38;5;241m-\u001b[39m ds\u001b[38;5;241m.\u001b[39mnir) \u001b[38;5;241m/\u001b[39m (ds\u001b[38;5;241m.\u001b[39mswir_1 \u001b[38;5;241m+\u001b[39m ds\u001b[38;5;241m.\u001b[39mnir),\n\u001b[1;32m    176\u001b[0m     \u001b[38;5;66;03m# Built-Up Index, He et al. 2010\u001b[39;00m\n\u001b[1;32m    177\u001b[0m     \u001b[38;5;124m\"\u001b[39m\u001b[38;5;124mBUI\u001b[39m\u001b[38;5;124m\"\u001b[39m: \u001b[38;5;28;01mlambda\u001b[39;00m ds: ((ds\u001b[38;5;241m.\u001b[39mswir_1 \u001b[38;5;241m-\u001b[39m ds\u001b[38;5;241m.\u001b[39mnir) \u001b[38;5;241m/\u001b[39m (ds\u001b[38;5;241m.\u001b[39mswir_1 \u001b[38;5;241m+\u001b[39m ds\u001b[38;5;241m.\u001b[39mnir))\n\u001b[1;32m    178\u001b[0m     \u001b[38;5;241m-\u001b[39m ((ds\u001b[38;5;241m.\u001b[39mnir \u001b[38;5;241m-\u001b[39m ds\u001b[38;5;241m.\u001b[39mred) \u001b[38;5;241m/\u001b[39m (ds\u001b[38;5;241m.\u001b[39mnir \u001b[38;5;241m+\u001b[39m ds\u001b[38;5;241m.\u001b[39mred)),\n\u001b[1;32m    179\u001b[0m     \u001b[38;5;66;03m# Built-up Area Extraction Index, Bouzekri et al. 2015\u001b[39;00m\n\u001b[1;32m    180\u001b[0m     \u001b[38;5;124m\"\u001b[39m\u001b[38;5;124mBAEI\u001b[39m\u001b[38;5;124m\"\u001b[39m: \u001b[38;5;28;01mlambda\u001b[39;00m ds: (ds\u001b[38;5;241m.\u001b[39mred \u001b[38;5;241m+\u001b[39m \u001b[38;5;241m0.3\u001b[39m) \u001b[38;5;241m/\u001b[39m (ds\u001b[38;5;241m.\u001b[39mgreen \u001b[38;5;241m+\u001b[39m ds\u001b[38;5;241m.\u001b[39mswir_1),\n\u001b[1;32m    181\u001b[0m     \u001b[38;5;66;03m# New Built-up Index, Jieli et al. 2010\u001b[39;00m\n\u001b[1;32m    182\u001b[0m     \u001b[38;5;124m\"\u001b[39m\u001b[38;5;124mNBI\u001b[39m\u001b[38;5;124m\"\u001b[39m: \u001b[38;5;28;01mlambda\u001b[39;00m ds: (ds\u001b[38;5;241m.\u001b[39mswir_1 \u001b[38;5;241m+\u001b[39m ds\u001b[38;5;241m.\u001b[39mred) \u001b[38;5;241m/\u001b[39m ds\u001b[38;5;241m.\u001b[39mnir,\n\u001b[1;32m    183\u001b[0m     \u001b[38;5;66;03m# Bare Soil Index, Rikimaru et al. 2002\u001b[39;00m\n\u001b[1;32m    184\u001b[0m     \u001b[38;5;124m\"\u001b[39m\u001b[38;5;124mBSI\u001b[39m\u001b[38;5;124m\"\u001b[39m: \u001b[38;5;28;01mlambda\u001b[39;00m ds: ((ds\u001b[38;5;241m.\u001b[39mswir_1 \u001b[38;5;241m+\u001b[39m ds\u001b[38;5;241m.\u001b[39mred) \u001b[38;5;241m-\u001b[39m (ds\u001b[38;5;241m.\u001b[39mnir \u001b[38;5;241m+\u001b[39m ds\u001b[38;5;241m.\u001b[39mblue))\n\u001b[1;32m    185\u001b[0m     \u001b[38;5;241m/\u001b[39m ((ds\u001b[38;5;241m.\u001b[39mswir_1 \u001b[38;5;241m+\u001b[39m ds\u001b[38;5;241m.\u001b[39mred) \u001b[38;5;241m+\u001b[39m (ds\u001b[38;5;241m.\u001b[39mnir \u001b[38;5;241m+\u001b[39m ds\u001b[38;5;241m.\u001b[39mblue)),\n\u001b[1;32m    186\u001b[0m     \u001b[38;5;66;03m# Automated Water Extraction Index (no shadows), Feyisa 2014\u001b[39;00m\n\u001b[1;32m    187\u001b[0m     \u001b[38;5;124m\"\u001b[39m\u001b[38;5;124mAWEI_ns\u001b[39m\u001b[38;5;124m\"\u001b[39m: \u001b[38;5;28;01mlambda\u001b[39;00m ds: (\n\u001b[1;32m    188\u001b[0m         \u001b[38;5;241m4\u001b[39m \u001b[38;5;241m*\u001b[39m (ds\u001b[38;5;241m.\u001b[39mgreen \u001b[38;5;241m-\u001b[39m ds\u001b[38;5;241m.\u001b[39mswir_1) \u001b[38;5;241m-\u001b[39m (\u001b[38;5;241m0.25\u001b[39m \u001b[38;5;241m*\u001b[39m ds\u001b[38;5;241m.\u001b[39mnir \u001b[38;5;241m*\u001b[39m \u001b[38;5;241m+\u001b[39m\u001b[38;5;241m2.75\u001b[39m \u001b[38;5;241m*\u001b[39m ds\u001b[38;5;241m.\u001b[39mswir_2)\n\u001b[1;32m    189\u001b[0m     ),\n\u001b[1;32m    190\u001b[0m     \u001b[38;5;66;03m# Automated Water Extraction Index (shadows), Feyisa 2014\u001b[39;00m\n\u001b[1;32m    191\u001b[0m     \u001b[38;5;124m\"\u001b[39m\u001b[38;5;124mAWEI_sh\u001b[39m\u001b[38;5;124m\"\u001b[39m: \u001b[38;5;28;01mlambda\u001b[39;00m ds: (\n\u001b[1;32m    192\u001b[0m         ds\u001b[38;5;241m.\u001b[39mblue \u001b[38;5;241m+\u001b[39m \u001b[38;5;241m2.5\u001b[39m \u001b[38;5;241m*\u001b[39m ds\u001b[38;5;241m.\u001b[39mgreen \u001b[38;5;241m-\u001b[39m \u001b[38;5;241m1.5\u001b[39m \u001b[38;5;241m*\u001b[39m (ds\u001b[38;5;241m.\u001b[39mnir \u001b[38;5;241m+\u001b[39m ds\u001b[38;5;241m.\u001b[39mswir_1) \u001b[38;5;241m-\u001b[39m \u001b[38;5;241m0.25\u001b[39m \u001b[38;5;241m*\u001b[39m ds\u001b[38;5;241m.\u001b[39mswir_2\n\u001b[1;32m    193\u001b[0m     ),\n\u001b[1;32m    194\u001b[0m     \u001b[38;5;66;03m# Water Index, Fisher 2016\u001b[39;00m\n\u001b[1;32m    195\u001b[0m     \u001b[38;5;124m\"\u001b[39m\u001b[38;5;124mWI\u001b[39m\u001b[38;5;124m\"\u001b[39m: \u001b[38;5;28;01mlambda\u001b[39;00m ds: (\n\u001b[1;32m    196\u001b[0m         \u001b[38;5;241m1.7204\u001b[39m\n\u001b[1;32m    197\u001b[0m         \u001b[38;5;241m+\u001b[39m \u001b[38;5;241m171\u001b[39m \u001b[38;5;241m*\u001b[39m ds\u001b[38;5;241m.\u001b[39mgreen\n\u001b[1;32m    198\u001b[0m         \u001b[38;5;241m+\u001b[39m \u001b[38;5;241m3\u001b[39m \u001b[38;5;241m*\u001b[39m ds\u001b[38;5;241m.\u001b[39mred\n\u001b[1;32m    199\u001b[0m         \u001b[38;5;241m-\u001b[39m \u001b[38;5;241m70\u001b[39m \u001b[38;5;241m*\u001b[39m ds\u001b[38;5;241m.\u001b[39mnir\n\u001b[1;32m    200\u001b[0m         \u001b[38;5;241m-\u001b[39m \u001b[38;5;241m45\u001b[39m \u001b[38;5;241m*\u001b[39m ds\u001b[38;5;241m.\u001b[39mswir_1\n\u001b[1;32m    201\u001b[0m         \u001b[38;5;241m-\u001b[39m \u001b[38;5;241m71\u001b[39m \u001b[38;5;241m*\u001b[39m ds\u001b[38;5;241m.\u001b[39mswir_2\n\u001b[1;32m    202\u001b[0m     ),\n\u001b[1;32m    203\u001b[0m     \u001b[38;5;66;03m# Tasseled Cap Wetness, Crist 1985\u001b[39;00m\n\u001b[1;32m    204\u001b[0m     \u001b[38;5;124m\"\u001b[39m\u001b[38;5;124mTCW\u001b[39m\u001b[38;5;124m\"\u001b[39m: \u001b[38;5;28;01mlambda\u001b[39;00m ds: (\n\u001b[1;32m    205\u001b[0m         \u001b[38;5;241m0.0315\u001b[39m \u001b[38;5;241m*\u001b[39m ds\u001b[38;5;241m.\u001b[39mblue\n\u001b[1;32m    206\u001b[0m         \u001b[38;5;241m+\u001b[39m \u001b[38;5;241m0.2021\u001b[39m \u001b[38;5;241m*\u001b[39m ds\u001b[38;5;241m.\u001b[39mgreen\n\u001b[1;32m    207\u001b[0m         \u001b[38;5;241m+\u001b[39m \u001b[38;5;241m0.3102\u001b[39m \u001b[38;5;241m*\u001b[39m ds\u001b[38;5;241m.\u001b[39mred\n\u001b[1;32m    208\u001b[0m         \u001b[38;5;241m+\u001b[39m \u001b[38;5;241m0.1594\u001b[39m \u001b[38;5;241m*\u001b[39m ds\u001b[38;5;241m.\u001b[39mnir\n\u001b[1;32m    209\u001b[0m         \u001b[38;5;241m+\u001b[39m \u001b[38;5;241m-\u001b[39m\u001b[38;5;241m0.6806\u001b[39m \u001b[38;5;241m*\u001b[39m ds\u001b[38;5;241m.\u001b[39mswir_1\n\u001b[1;32m    210\u001b[0m         \u001b[38;5;241m+\u001b[39m \u001b[38;5;241m-\u001b[39m\u001b[38;5;241m0.6109\u001b[39m \u001b[38;5;241m*\u001b[39m ds\u001b[38;5;241m.\u001b[39mswir_2\n\u001b[1;32m    211\u001b[0m     ),\n\u001b[1;32m    212\u001b[0m     \u001b[38;5;66;03m# Tasseled Cap Greeness, Crist 1985\u001b[39;00m\n\u001b[1;32m    213\u001b[0m     \u001b[38;5;124m\"\u001b[39m\u001b[38;5;124mTCG\u001b[39m\u001b[38;5;124m\"\u001b[39m: \u001b[38;5;28;01mlambda\u001b[39;00m ds: (\n\u001b[1;32m    214\u001b[0m         \u001b[38;5;241m-\u001b[39m\u001b[38;5;241m0.1603\u001b[39m \u001b[38;5;241m*\u001b[39m ds\u001b[38;5;241m.\u001b[39mblue\n\u001b[1;32m    215\u001b[0m         \u001b[38;5;241m+\u001b[39m \u001b[38;5;241m-\u001b[39m\u001b[38;5;241m0.2819\u001b[39m \u001b[38;5;241m*\u001b[39m ds\u001b[38;5;241m.\u001b[39mgreen\n\u001b[1;32m    216\u001b[0m         \u001b[38;5;241m+\u001b[39m \u001b[38;5;241m-\u001b[39m\u001b[38;5;241m0.4934\u001b[39m \u001b[38;5;241m*\u001b[39m ds\u001b[38;5;241m.\u001b[39mred\n\u001b[1;32m    217\u001b[0m         \u001b[38;5;241m+\u001b[39m \u001b[38;5;241m0.7940\u001b[39m \u001b[38;5;241m*\u001b[39m ds\u001b[38;5;241m.\u001b[39mnir\n\u001b[1;32m    218\u001b[0m         \u001b[38;5;241m+\u001b[39m \u001b[38;5;241m-\u001b[39m\u001b[38;5;241m0.0002\u001b[39m \u001b[38;5;241m*\u001b[39m ds\u001b[38;5;241m.\u001b[39mswir_1\n\u001b[1;32m    219\u001b[0m         \u001b[38;5;241m+\u001b[39m \u001b[38;5;241m-\u001b[39m\u001b[38;5;241m0.1446\u001b[39m \u001b[38;5;241m*\u001b[39m ds\u001b[38;5;241m.\u001b[39mswir_2\n\u001b[1;32m    220\u001b[0m     ),\n\u001b[1;32m    221\u001b[0m     \u001b[38;5;66;03m# Tasseled Cap Brightness, Crist 1985\u001b[39;00m\n\u001b[1;32m    222\u001b[0m     \u001b[38;5;124m\"\u001b[39m\u001b[38;5;124mTCB\u001b[39m\u001b[38;5;124m\"\u001b[39m: \u001b[38;5;28;01mlambda\u001b[39;00m ds: (\n\u001b[1;32m    223\u001b[0m         \u001b[38;5;241m0.2043\u001b[39m \u001b[38;5;241m*\u001b[39m ds\u001b[38;5;241m.\u001b[39mblue\n\u001b[1;32m    224\u001b[0m         \u001b[38;5;241m+\u001b[39m \u001b[38;5;241m0.4158\u001b[39m \u001b[38;5;241m*\u001b[39m ds\u001b[38;5;241m.\u001b[39mgreen\n\u001b[1;32m    225\u001b[0m         \u001b[38;5;241m+\u001b[39m \u001b[38;5;241m0.5524\u001b[39m \u001b[38;5;241m*\u001b[39m ds\u001b[38;5;241m.\u001b[39mred\n\u001b[1;32m    226\u001b[0m         \u001b[38;5;241m+\u001b[39m \u001b[38;5;241m0.5741\u001b[39m \u001b[38;5;241m*\u001b[39m ds\u001b[38;5;241m.\u001b[39mnir\n\u001b[1;32m    227\u001b[0m         \u001b[38;5;241m+\u001b[39m \u001b[38;5;241m0.3124\u001b[39m \u001b[38;5;241m*\u001b[39m ds\u001b[38;5;241m.\u001b[39mswir_1\n\u001b[1;32m    228\u001b[0m         \u001b[38;5;241m+\u001b[39m \u001b[38;5;241m-\u001b[39m\u001b[38;5;241m0.2303\u001b[39m \u001b[38;5;241m*\u001b[39m ds\u001b[38;5;241m.\u001b[39mswir_2\n\u001b[1;32m    229\u001b[0m     ),\n\u001b[1;32m    230\u001b[0m     \u001b[38;5;66;03m# Clay Minerals Ratio, Drury 1987\u001b[39;00m\n\u001b[1;32m    231\u001b[0m     \u001b[38;5;124m\"\u001b[39m\u001b[38;5;124mCMR\u001b[39m\u001b[38;5;124m\"\u001b[39m: \u001b[38;5;28;01mlambda\u001b[39;00m ds: (ds\u001b[38;5;241m.\u001b[39mswir_1 \u001b[38;5;241m/\u001b[39m ds\u001b[38;5;241m.\u001b[39mswir_2),\n\u001b[1;32m    232\u001b[0m     \u001b[38;5;66;03m# Ferrous Minerals Ratio, Segal 1982\u001b[39;00m\n\u001b[1;32m    233\u001b[0m     \u001b[38;5;124m\"\u001b[39m\u001b[38;5;124mFMR\u001b[39m\u001b[38;5;124m\"\u001b[39m: \u001b[38;5;28;01mlambda\u001b[39;00m ds: (ds\u001b[38;5;241m.\u001b[39mswir_1 \u001b[38;5;241m/\u001b[39m ds\u001b[38;5;241m.\u001b[39mnir),\n\u001b[1;32m    234\u001b[0m     \u001b[38;5;66;03m# Iron Oxide Ratio, Segal 1982\u001b[39;00m\n\u001b[1;32m    235\u001b[0m     \u001b[38;5;124m\"\u001b[39m\u001b[38;5;124mIOR\u001b[39m\u001b[38;5;124m\"\u001b[39m: \u001b[38;5;28;01mlambda\u001b[39;00m ds: (ds\u001b[38;5;241m.\u001b[39mred \u001b[38;5;241m/\u001b[39m ds\u001b[38;5;241m.\u001b[39mblue),\n\u001b[1;32m    236\u001b[0m     \u001b[38;5;66;03m# Normalized Difference Turbidity Index, Lacaux, J.P. et al. 2007\u001b[39;00m\n\u001b[1;32m    237\u001b[0m     \u001b[38;5;124m\"\u001b[39m\u001b[38;5;124mNDTI\u001b[39m\u001b[38;5;124m\"\u001b[39m: \u001b[38;5;28;01mlambda\u001b[39;00m ds: (ds\u001b[38;5;241m.\u001b[39mred \u001b[38;5;241m-\u001b[39m ds\u001b[38;5;241m.\u001b[39mgreen) \u001b[38;5;241m/\u001b[39m (ds\u001b[38;5;241m.\u001b[39mred \u001b[38;5;241m+\u001b[39m ds\u001b[38;5;241m.\u001b[39mgreen),\n\u001b[1;32m    238\u001b[0m     \u001b[38;5;66;03m# Modified Bare Soil Index, Nguyen et al. 2021\u001b[39;00m\n\u001b[1;32m    239\u001b[0m     \u001b[38;5;124m\"\u001b[39m\u001b[38;5;124mMBI\u001b[39m\u001b[38;5;124m\"\u001b[39m: \u001b[38;5;28;01mlambda\u001b[39;00m ds: ((ds\u001b[38;5;241m.\u001b[39mswir_1 \u001b[38;5;241m-\u001b[39m ds\u001b[38;5;241m.\u001b[39mswir_2 \u001b[38;5;241m-\u001b[39m ds\u001b[38;5;241m.\u001b[39mnir) \u001b[38;5;241m/\u001b[39m (ds\u001b[38;5;241m.\u001b[39mswir_1 \u001b[38;5;241m+\u001b[39m ds\u001b[38;5;241m.\u001b[39mswir_2 \u001b[38;5;241m+\u001b[39m ds\u001b[38;5;241m.\u001b[39mnir)) \u001b[38;5;241m+\u001b[39m \u001b[38;5;241m0.5\u001b[39m,\n\u001b[1;32m    240\u001b[0m }\n\u001b[1;32m    242\u001b[0m \u001b[38;5;66;03m# Enhanced Normalised Difference Impervious Surfaces Index, Chen et al. 2019\u001b[39;00m\n",
      "File \u001b[0;32m~/anaconda3/envs/odc_env/lib/python3.8/site-packages/xarray/core/common.py:272\u001b[0m, in \u001b[0;36mAttrAccessMixin.__getattr__\u001b[0;34m(self, name)\u001b[0m\n\u001b[1;32m    271\u001b[0m             \u001b[38;5;28;01mreturn\u001b[39;00m source[name]\n\u001b[0;32m--> 272\u001b[0m \u001b[38;5;28;01mraise\u001b[39;00m \u001b[38;5;167;01mAttributeError\u001b[39;00m(\n\u001b[1;32m    273\u001b[0m     \u001b[38;5;124mf\u001b[39m\u001b[38;5;124m\"\u001b[39m\u001b[38;5;132;01m{\u001b[39;00m\u001b[38;5;28mtype\u001b[39m(\u001b[38;5;28mself\u001b[39m)\u001b[38;5;241m.\u001b[39m\u001b[38;5;18m__name__\u001b[39m\u001b[38;5;132;01m!r}\u001b[39;00m\u001b[38;5;124m object has no attribute \u001b[39m\u001b[38;5;132;01m{\u001b[39;00mname\u001b[38;5;132;01m!r}\u001b[39;00m\u001b[38;5;124m\"\u001b[39m\n\u001b[1;32m    274\u001b[0m )\n",
      "\u001b[0;31mAttributeError\u001b[0m: 'Dataset' object has no attribute 'nir'",
      "\nDuring handling of the above exception, another exception occurred:\n",
      "\u001b[0;31mValueError\u001b[0m                                Traceback (most recent call last)",
      "Cell \u001b[0;32mIn[12], line 2\u001b[0m\n\u001b[1;32m      1\u001b[0m \u001b[38;5;66;03m# gdf['geometry'] = gdf['geometry'].astype(int)\u001b[39;00m\n\u001b[0;32m----> 2\u001b[0m column_names, model_input \u001b[38;5;241m=\u001b[39m \u001b[43mcollect_training_data\u001b[49m\u001b[43m(\u001b[49m\n\u001b[1;32m      3\u001b[0m \u001b[43m                                    \u001b[49m\u001b[43mgdf\u001b[49m\u001b[38;5;241;43m=\u001b[39;49m\u001b[43minput_data\u001b[49m\u001b[43m,\u001b[49m\n\u001b[1;32m      4\u001b[0m \u001b[43m                                    \u001b[49m\u001b[43mdc_query\u001b[49m\u001b[38;5;241;43m=\u001b[39;49m\u001b[43mquery\u001b[49m\u001b[43m,\u001b[49m\n\u001b[1;32m      5\u001b[0m \u001b[43m                                    \u001b[49m\u001b[43mfield\u001b[49m\u001b[38;5;241;43m=\u001b[39;49m\u001b[43mfield\u001b[49m\u001b[43m,\u001b[49m\n\u001b[1;32m      6\u001b[0m \u001b[43m                                    \u001b[49m\u001b[43mzonal_stats\u001b[49m\u001b[38;5;241;43m=\u001b[39;49m\u001b[43mzonal_stats\u001b[49m\u001b[43m,\u001b[49m\n\u001b[1;32m      7\u001b[0m \u001b[43m                                    \u001b[49m\u001b[43mfeature_func\u001b[49m\u001b[38;5;241;43m=\u001b[39;49m\u001b[43mfeature_layers\u001b[49m\n\u001b[1;32m      8\u001b[0m \u001b[43m                                    \u001b[49m\u001b[43m)\u001b[49m\n",
      "File \u001b[0;32m~/anaconda3/envs/odc_env/lib/python3.8/site-packages/deafrica_tools/classification.py:660\u001b[0m, in \u001b[0;36mcollect_training_data\u001b[0;34m(gdf, dc_query, ncpus, return_coords, feature_func, field, zonal_stats, clean, fail_threshold, fail_ratio, max_retries)\u001b[0m\n\u001b[1;32m    657\u001b[0m     \u001b[38;5;28;01mfor\u001b[39;00m index, row \u001b[38;5;129;01min\u001b[39;00m gdf\u001b[38;5;241m.\u001b[39miterrows():\n\u001b[1;32m    658\u001b[0m         \u001b[38;5;28mprint\u001b[39m(\u001b[38;5;124m\"\u001b[39m\u001b[38;5;124m Feature \u001b[39m\u001b[38;5;132;01m{:04}\u001b[39;00m\u001b[38;5;124m/\u001b[39m\u001b[38;5;132;01m{:04}\u001b[39;00m\u001b[38;5;130;01m\\r\u001b[39;00m\u001b[38;5;124m\"\u001b[39m\u001b[38;5;241m.\u001b[39mformat(i \u001b[38;5;241m+\u001b[39m \u001b[38;5;241m1\u001b[39m, \u001b[38;5;28mlen\u001b[39m(gdf)), end\u001b[38;5;241m=\u001b[39m\u001b[38;5;124m\"\u001b[39m\u001b[38;5;124m\"\u001b[39m)\n\u001b[0;32m--> 660\u001b[0m         \u001b[43m_get_training_data_for_shp\u001b[49m\u001b[43m(\u001b[49m\n\u001b[1;32m    661\u001b[0m \u001b[43m            \u001b[49m\u001b[43mgdf\u001b[49m\u001b[43m,\u001b[49m\n\u001b[1;32m    662\u001b[0m \u001b[43m            \u001b[49m\u001b[43mindex\u001b[49m\u001b[43m,\u001b[49m\n\u001b[1;32m    663\u001b[0m \u001b[43m            \u001b[49m\u001b[43mrow\u001b[49m\u001b[43m,\u001b[49m\n\u001b[1;32m    664\u001b[0m \u001b[43m            \u001b[49m\u001b[43mresults\u001b[49m\u001b[43m,\u001b[49m\n\u001b[1;32m    665\u001b[0m \u001b[43m            \u001b[49m\u001b[43mcolumn_names\u001b[49m\u001b[43m,\u001b[49m\n\u001b[1;32m    666\u001b[0m \u001b[43m            \u001b[49m\u001b[43mdc_query\u001b[49m\u001b[43m,\u001b[49m\n\u001b[1;32m    667\u001b[0m \u001b[43m            \u001b[49m\u001b[43mreturn_coords\u001b[49m\u001b[43m,\u001b[49m\n\u001b[1;32m    668\u001b[0m \u001b[43m            \u001b[49m\u001b[43mfeature_func\u001b[49m\u001b[43m,\u001b[49m\n\u001b[1;32m    669\u001b[0m \u001b[43m            \u001b[49m\u001b[43mfield\u001b[49m\u001b[43m,\u001b[49m\n\u001b[1;32m    670\u001b[0m \u001b[43m            \u001b[49m\u001b[43mzonal_stats\u001b[49m\u001b[43m,\u001b[49m\n\u001b[1;32m    671\u001b[0m \u001b[43m        \u001b[49m\u001b[43m)\u001b[49m\n\u001b[1;32m    672\u001b[0m         i \u001b[38;5;241m+\u001b[39m\u001b[38;5;241m=\u001b[39m \u001b[38;5;241m1\u001b[39m\n\u001b[1;32m    674\u001b[0m \u001b[38;5;28;01melse\u001b[39;00m:\n",
      "File \u001b[0;32m~/anaconda3/envs/odc_env/lib/python3.8/site-packages/deafrica_tools/classification.py:432\u001b[0m, in \u001b[0;36m_get_training_data_for_shp\u001b[0;34m(gdf, index, row, out_arrs, out_vars, dc_query, return_coords, feature_func, field, zonal_stats)\u001b[0m\n\u001b[1;32m    429\u001b[0m dc_query\u001b[38;5;241m.\u001b[39mupdate(q)\n\u001b[1;32m    431\u001b[0m \u001b[38;5;66;03m# Use input feature function\u001b[39;00m\n\u001b[0;32m--> 432\u001b[0m data \u001b[38;5;241m=\u001b[39m \u001b[43mfeature_func\u001b[49m\u001b[43m(\u001b[49m\u001b[43mdc_query\u001b[49m\u001b[43m)\u001b[49m\n\u001b[1;32m    434\u001b[0m \u001b[38;5;66;03m# create polygon mask\u001b[39;00m\n\u001b[1;32m    435\u001b[0m mask \u001b[38;5;241m=\u001b[39m xr_rasterize(gdf\u001b[38;5;241m.\u001b[39miloc[[index]], data)\n",
      "Cell \u001b[0;32mIn[9], line 10\u001b[0m, in \u001b[0;36mfeature_layers\u001b[0;34m(query)\u001b[0m\n\u001b[1;32m      6\u001b[0m ds \u001b[38;5;241m=\u001b[39m dc\u001b[38;5;241m.\u001b[39mload(product\u001b[38;5;241m=\u001b[39mproducts,\n\u001b[1;32m      7\u001b[0m              \u001b[38;5;241m*\u001b[39m\u001b[38;5;241m*\u001b[39mquery)\n\u001b[1;32m      9\u001b[0m \u001b[38;5;66;03m#calculate some band indices\u001b[39;00m\n\u001b[0;32m---> 10\u001b[0m ds \u001b[38;5;241m=\u001b[39m \u001b[43mcalculate_indices\u001b[49m\u001b[43m(\u001b[49m\u001b[43mds\u001b[49m\u001b[43m,\u001b[49m\n\u001b[1;32m     11\u001b[0m \u001b[43m                       \u001b[49m\u001b[43mindex\u001b[49m\u001b[38;5;241;43m=\u001b[39;49m\u001b[43m[\u001b[49m\u001b[38;5;124;43m'\u001b[39;49m\u001b[38;5;124;43mNDVI\u001b[39;49m\u001b[38;5;124;43m'\u001b[39;49m\u001b[43m,\u001b[49m\u001b[43m \u001b[49m\u001b[38;5;124;43m'\u001b[39;49m\u001b[38;5;124;43mBUI\u001b[39;49m\u001b[38;5;124;43m'\u001b[39;49m\u001b[43m,\u001b[49m\u001b[43m \u001b[49m\u001b[38;5;124;43m'\u001b[39;49m\u001b[38;5;124;43mMNDWI\u001b[39;49m\u001b[38;5;124;43m'\u001b[39;49m\u001b[43m]\u001b[49m\u001b[43m,\u001b[49m\n\u001b[1;32m     12\u001b[0m \u001b[43m                       \u001b[49m\u001b[43mdrop\u001b[49m\u001b[38;5;241;43m=\u001b[39;49m\u001b[38;5;28;43;01mFalse\u001b[39;49;00m\u001b[43m,\u001b[49m\n\u001b[1;32m     13\u001b[0m \u001b[43m                       \u001b[49m\u001b[43msatellite_mission\u001b[49m\u001b[38;5;241;43m=\u001b[39;49m\u001b[38;5;124;43m'\u001b[39;49m\u001b[38;5;124;43ms2\u001b[39;49m\u001b[38;5;124;43m'\u001b[39;49m\u001b[43m)\u001b[49m\n\u001b[1;32m     15\u001b[0m \u001b[38;5;28;01mreturn\u001b[39;00m ds\n",
      "File \u001b[0;32m~/anaconda3/envs/odc_env/lib/python3.8/site-packages/deafrica_tools/bandindices.py:438\u001b[0m, in \u001b[0;36mcalculate_indices\u001b[0;34m(ds, index, collection, satellite_mission, custom_varname, normalise, drop, deep_copy)\u001b[0m\n\u001b[1;32m    435\u001b[0m     index_array \u001b[38;5;241m=\u001b[39m index_func(ds\u001b[38;5;241m.\u001b[39mrename(bands_to_rename) \u001b[38;5;241m/\u001b[39m mult)\n\u001b[1;32m    437\u001b[0m \u001b[38;5;28;01mexcept\u001b[39;00m \u001b[38;5;167;01mAttributeError\u001b[39;00m:\n\u001b[0;32m--> 438\u001b[0m     \u001b[38;5;28;01mraise\u001b[39;00m \u001b[38;5;167;01mValueError\u001b[39;00m(\n\u001b[1;32m    439\u001b[0m         \u001b[38;5;124mf\u001b[39m\u001b[38;5;124m\"\u001b[39m\u001b[38;5;124mPlease verify that all bands required to \u001b[39m\u001b[38;5;124m\"\u001b[39m\n\u001b[1;32m    440\u001b[0m         \u001b[38;5;124mf\u001b[39m\u001b[38;5;124m\"\u001b[39m\u001b[38;5;124mcompute \u001b[39m\u001b[38;5;132;01m{\u001b[39;00mindex\u001b[38;5;132;01m}\u001b[39;00m\u001b[38;5;124m are present in `ds`.\u001b[39m\u001b[38;5;124m\"\u001b[39m\n\u001b[1;32m    441\u001b[0m     )\n\u001b[1;32m    443\u001b[0m \u001b[38;5;66;03m# Add as a new variable in dataset\u001b[39;00m\n\u001b[1;32m    444\u001b[0m output_band_name \u001b[38;5;241m=\u001b[39m custom_varname \u001b[38;5;28;01mif\u001b[39;00m custom_varname \u001b[38;5;28;01melse\u001b[39;00m index\n",
      "\u001b[0;31mValueError\u001b[0m: Please verify that all bands required to compute NDVI are present in `ds`."
     ]
    }
   ],
   "source": [
    "# gdf['geometry'] = gdf['geometry'].astype(int)\n",
    "column_names, model_input = collect_training_data(\n",
    "                                    gdf=input_data,\n",
    "                                    dc_query=query,\n",
    "                                    field=field,\n",
    "                                    zonal_stats=zonal_stats,\n",
    "                                    feature_func=feature_layers\n",
    "                                    )"
   ]
  },
  {
   "cell_type": "code",
   "execution_count": null,
   "id": "8e108208-08b6-453b-ab81-6f25c5491293",
   "metadata": {},
   "outputs": [],
   "source": []
  }
 ],
 "metadata": {
  "kernelspec": {
   "display_name": "Python 3 (ipykernel)",
   "language": "python",
   "name": "python3"
  },
  "language_info": {
   "codemirror_mode": {
    "name": "ipython",
    "version": 3
   },
   "file_extension": ".py",
   "mimetype": "text/x-python",
   "name": "python",
   "nbconvert_exporter": "python",
   "pygments_lexer": "ipython3",
   "version": "3.8.16"
  }
 },
 "nbformat": 4,
 "nbformat_minor": 5
}
