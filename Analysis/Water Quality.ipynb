{
 "cells": [
  {
   "cell_type": "code",
   "execution_count": 2,
   "id": "747f6153-9175-49c9-b870-12edb0cd1c47",
   "metadata": {},
   "outputs": [],
   "source": [
    "%matplotlib inline\n",
    "\n",
    "import datacube\n",
    "import numpy as np\n",
    "import xarray as xr\n",
    "import matplotlib.pyplot as plt\n",
    "\n",
    "from deafrica_tools.plotting import display_map, rgb\n",
    "from deafrica_tools.datahandling import load_ard, mostcommon_crs, wofs_fuser\n"
   ]
  },
  {
   "cell_type": "code",
   "execution_count": 3,
   "id": "80609db0-94d5-4a08-8e3d-ac4829e210d3",
   "metadata": {},
   "outputs": [],
   "source": [
    "dc = datacube.Datacube(app=\"Monitoring_water_quality\")"
   ]
  },
  {
   "cell_type": "code",
   "execution_count": 4,
   "id": "11b0b856-0c96-4a78-a316-146aea3423d5",
   "metadata": {},
   "outputs": [
    {
     "name": "stderr",
     "output_type": "stream",
     "text": [
      "/home/adithya/anaconda3/envs/odc_env/lib/python3.8/site-packages/deafrica_tools/plotting.py:284: FutureWarning: This function is deprecated. See: https://pyproj4.github.io/pyproj/stable/gotchas.html#upgrading-to-pyproj-2-from-pyproj-1\n",
      "  all_longitude, all_latitude = transform(Proj(crs), Proj(\"EPSG:4326\"), all_x, all_y)\n"
     ]
    },
    {
     "data": {
      "text/html": [
       "<div style=\"width:100%;\"><div style=\"position:relative;width:100%;height:0;padding-bottom:60%;\"><span style=\"color:#565656\">Make this Notebook Trusted to load map: File -> Trust Notebook</span><iframe srcdoc=\"&lt;!DOCTYPE html&gt;\n",
       "&lt;html&gt;\n",
       "&lt;head&gt;\n",
       "    \n",
       "    &lt;meta http-equiv=&quot;content-type&quot; content=&quot;text/html; charset=UTF-8&quot; /&gt;\n",
       "    \n",
       "        &lt;script&gt;\n",
       "            L_NO_TOUCH = false;\n",
       "            L_DISABLE_3D = false;\n",
       "        &lt;/script&gt;\n",
       "    \n",
       "    &lt;style&gt;html, body {width: 100%;height: 100%;margin: 0;padding: 0;}&lt;/style&gt;\n",
       "    &lt;style&gt;#map {position:absolute;top:0;bottom:0;right:0;left:0;}&lt;/style&gt;\n",
       "    &lt;script src=&quot;https://cdn.jsdelivr.net/npm/leaflet@1.9.3/dist/leaflet.js&quot;&gt;&lt;/script&gt;\n",
       "    &lt;script src=&quot;https://code.jquery.com/jquery-1.12.4.min.js&quot;&gt;&lt;/script&gt;\n",
       "    &lt;script src=&quot;https://cdn.jsdelivr.net/npm/bootstrap@5.2.2/dist/js/bootstrap.bundle.min.js&quot;&gt;&lt;/script&gt;\n",
       "    &lt;script src=&quot;https://cdnjs.cloudflare.com/ajax/libs/Leaflet.awesome-markers/2.0.2/leaflet.awesome-markers.js&quot;&gt;&lt;/script&gt;\n",
       "    &lt;link rel=&quot;stylesheet&quot; href=&quot;https://cdn.jsdelivr.net/npm/leaflet@1.9.3/dist/leaflet.css&quot;/&gt;\n",
       "    &lt;link rel=&quot;stylesheet&quot; href=&quot;https://cdn.jsdelivr.net/npm/bootstrap@5.2.2/dist/css/bootstrap.min.css&quot;/&gt;\n",
       "    &lt;link rel=&quot;stylesheet&quot; href=&quot;https://netdna.bootstrapcdn.com/bootstrap/3.0.0/css/bootstrap.min.css&quot;/&gt;\n",
       "    &lt;link rel=&quot;stylesheet&quot; href=&quot;https://cdn.jsdelivr.net/npm/@fortawesome/fontawesome-free@6.2.0/css/all.min.css&quot;/&gt;\n",
       "    &lt;link rel=&quot;stylesheet&quot; href=&quot;https://cdnjs.cloudflare.com/ajax/libs/Leaflet.awesome-markers/2.0.2/leaflet.awesome-markers.css&quot;/&gt;\n",
       "    &lt;link rel=&quot;stylesheet&quot; href=&quot;https://cdn.jsdelivr.net/gh/python-visualization/folium/folium/templates/leaflet.awesome.rotate.min.css&quot;/&gt;\n",
       "    \n",
       "            &lt;meta name=&quot;viewport&quot; content=&quot;width=device-width,\n",
       "                initial-scale=1.0, maximum-scale=1.0, user-scalable=no&quot; /&gt;\n",
       "            &lt;style&gt;\n",
       "                #map_35ec721213aa3baa1ebd8b0204d08a10 {\n",
       "                    position: relative;\n",
       "                    width: 100.0%;\n",
       "                    height: 100.0%;\n",
       "                    left: 0.0%;\n",
       "                    top: 0.0%;\n",
       "                }\n",
       "                .leaflet-container { font-size: 1rem; }\n",
       "            &lt;/style&gt;\n",
       "        \n",
       "&lt;/head&gt;\n",
       "&lt;body&gt;\n",
       "    \n",
       "    \n",
       "            &lt;div class=&quot;folium-map&quot; id=&quot;map_35ec721213aa3baa1ebd8b0204d08a10&quot; &gt;&lt;/div&gt;\n",
       "        \n",
       "&lt;/body&gt;\n",
       "&lt;script&gt;\n",
       "    \n",
       "    \n",
       "            var map_35ec721213aa3baa1ebd8b0204d08a10 = L.map(\n",
       "                &quot;map_35ec721213aa3baa1ebd8b0204d08a10&quot;,\n",
       "                {\n",
       "                    center: [15.80023492, 80.90049194],\n",
       "                    crs: L.CRS.EPSG3857,\n",
       "                    zoom: 11,\n",
       "                    zoomControl: true,\n",
       "                    preferCanvas: false,\n",
       "                }\n",
       "            );\n",
       "\n",
       "            \n",
       "\n",
       "        \n",
       "    \n",
       "            var tile_layer_4d9ec23009e218ceb7700ecf761824a0 = L.tileLayer(\n",
       "                &quot;http://mt1.google.com/vt/lyrs=y\\u0026z={z}\\u0026x={x}\\u0026y={y}&quot;,\n",
       "                {&quot;attribution&quot;: &quot;Google&quot;, &quot;detectRetina&quot;: false, &quot;maxNativeZoom&quot;: 18, &quot;maxZoom&quot;: 18, &quot;minZoom&quot;: 0, &quot;noWrap&quot;: false, &quot;opacity&quot;: 1, &quot;subdomains&quot;: &quot;abc&quot;, &quot;tms&quot;: false}\n",
       "            ).addTo(map_35ec721213aa3baa1ebd8b0204d08a10);\n",
       "        \n",
       "    \n",
       "            var poly_line_e38d64f5c4dd6fe609cb82959fd41cc7 = L.polyline(\n",
       "                [[15.65018332, 80.75094696], [15.65018332, 81.05003692], [15.95028652, 81.05003692], [15.95028652, 80.75094696], [15.65018332, 80.75094696]],\n",
       "                {&quot;bubblingMouseEvents&quot;: true, &quot;color&quot;: &quot;red&quot;, &quot;dashArray&quot;: null, &quot;dashOffset&quot;: null, &quot;fill&quot;: false, &quot;fillColor&quot;: &quot;red&quot;, &quot;fillOpacity&quot;: 0.2, &quot;fillRule&quot;: &quot;evenodd&quot;, &quot;lineCap&quot;: &quot;round&quot;, &quot;lineJoin&quot;: &quot;round&quot;, &quot;noClip&quot;: false, &quot;opacity&quot;: 0.8, &quot;smoothFactor&quot;: 1.0, &quot;stroke&quot;: true, &quot;weight&quot;: 3}\n",
       "            ).addTo(map_35ec721213aa3baa1ebd8b0204d08a10);\n",
       "        \n",
       "    \n",
       "                var lat_lng_popup_58082fc78d478c3cdff69ffb2a60b417 = L.popup();\n",
       "                function latLngPop(e) {\n",
       "                    lat_lng_popup_58082fc78d478c3cdff69ffb2a60b417\n",
       "                        .setLatLng(e.latlng)\n",
       "                        .setContent(&quot;Latitude: &quot; + e.latlng.lat.toFixed(4) +\n",
       "                                    &quot;&lt;br&gt;Longitude: &quot; + e.latlng.lng.toFixed(4))\n",
       "                        .openOn(map_35ec721213aa3baa1ebd8b0204d08a10);\n",
       "                    }\n",
       "                map_35ec721213aa3baa1ebd8b0204d08a10.on(&#x27;click&#x27;, latLngPop);\n",
       "            \n",
       "&lt;/script&gt;\n",
       "&lt;/html&gt;\" style=\"position:absolute;width:100%;height:100%;left:0;top:0;border:none !important;\" allowfullscreen webkitallowfullscreen mozallowfullscreen></iframe></div></div>"
      ],
      "text/plain": [
       "<folium.folium.Map at 0x7fcc201df130>"
      ]
     },
     "execution_count": 4,
     "metadata": {},
     "output_type": "execute_result"
    }
   ],
   "source": [
    "lat_range = (15.65018332, 15.95028652)\n",
    "lon_range = (80.75094696, 81.05003692)\n",
    "product_name = \"s2a_sen2cor_granule\"\n",
    "time_range = ('2022-01-15', '2023-02-15')\n",
    "display_map(lon_range, lat_range)"
   ]
  },
  {
   "cell_type": "code",
   "execution_count": 5,
   "id": "0a24e7de-8acc-4a6f-af86-aafdf1100bd2",
   "metadata": {},
   "outputs": [
    {
     "name": "stdout",
     "output_type": "stream",
     "text": [
      "<xarray.Dataset>\n",
      "Dimensions:      (time: 2, y: 1230, x: 963)\n",
      "Coordinates:\n",
      "  * time         (time) datetime64[ns] 2022-08-23T05:14:41.977841 2023-02-09T...\n",
      "  * y            (y) float64 2.009e+06 2.009e+06 ... 1.972e+06 1.972e+06\n",
      "  * x            (x) float64 7.791e+06 7.791e+06 7.791e+06 ... 7.82e+06 7.82e+06\n",
      "    spatial_ref  int32 6933\n",
      "Data variables:\n",
      "    red          (time, y, x) uint16 1764 2057 2108 2057 ... 1154 1139 1150 1163\n",
      "    green        (time, y, x) uint16 1990 2013 1988 2055 ... 1229 1237 1263 1269\n",
      "    blue         (time, y, x) uint16 1721 1804 1827 1798 ... 1266 1287 1287 1290\n",
      "    nir          (time, y, x) uint16 2855 2936 2502 2705 ... 1104 1101 1094 1101\n",
      "    B11_20m      (time, y, x) uint16 2149 2014 1796 1920 ... 1076 1092 1080 1081\n",
      "Attributes:\n",
      "    crs:           EPSG:6933\n",
      "    grid_mapping:  spatial_ref\n"
     ]
    }
   ],
   "source": [
    "ds = dc.load(product=\"s2a_sen2cor_granule\",\n",
    "                 measurements=[\"red\",\"green\",\"blue\", \"nir\", \"B11_20m\"],\n",
    "             x=lon_range,\n",
    "             y=lat_range,\n",
    "             time=time_range,\n",
    "             output_crs='EPSG:6933',\n",
    "             resolution=(-30, 30))\n",
    "print(ds)"
   ]
  },
  {
   "cell_type": "code",
   "execution_count": 9,
   "id": "84701604-3c68-49f6-abf9-0fbe118419d5",
   "metadata": {},
   "outputs": [
    {
     "ename": "AttributeError",
     "evalue": "'NoneType' object has no attribute 'begin'",
     "output_type": "error",
     "traceback": [
      "\u001b[0;31m---------------------------------------------------------------------------\u001b[0m",
      "\u001b[0;31mAttributeError\u001b[0m                            Traceback (most recent call last)",
      "Cell \u001b[0;32mIn[9], line 2\u001b[0m\n\u001b[1;32m      1\u001b[0m \u001b[38;5;66;03m# Load water observations\u001b[39;00m\n\u001b[0;32m----> 2\u001b[0m water \u001b[38;5;241m=\u001b[39m \u001b[43mdc\u001b[49m\u001b[38;5;241;43m.\u001b[39;49m\u001b[43mload\u001b[49m\u001b[43m(\u001b[49m\n\u001b[1;32m      3\u001b[0m \u001b[43m            \u001b[49m\u001b[43mproduct\u001b[49m\u001b[38;5;241;43m=\u001b[39;49m\u001b[38;5;124;43m\"\u001b[39;49m\u001b[38;5;124;43ms2a_sen2cor_granule\u001b[39;49m\u001b[38;5;124;43m\"\u001b[39;49m\u001b[43m,\u001b[49m\n\u001b[1;32m      4\u001b[0m \u001b[43m            \u001b[49m\u001b[43mgroup_by\u001b[49m\u001b[38;5;241;43m=\u001b[39;49m\u001b[38;5;124;43m\"\u001b[39;49m\u001b[38;5;124;43msolar_day\u001b[39;49m\u001b[38;5;124;43m\"\u001b[39;49m\u001b[43m,\u001b[49m\n\u001b[1;32m      5\u001b[0m \u001b[43m            \u001b[49m\u001b[43mlike\u001b[49m\u001b[38;5;241;43m=\u001b[39;49m\u001b[43mds\u001b[49m\u001b[38;5;241;43m.\u001b[39;49m\u001b[43mgeobox\u001b[49m\u001b[43m,\u001b[49m\n\u001b[1;32m      6\u001b[0m \u001b[43m            \u001b[49m\u001b[43mdask_chunks\u001b[49m\u001b[38;5;241;43m=\u001b[39;49m\u001b[43m{\u001b[49m\u001b[38;5;124;43m\"\u001b[39;49m\u001b[38;5;124;43mtime\u001b[39;49m\u001b[38;5;124;43m\"\u001b[39;49m\u001b[43m:\u001b[49m\u001b[43m \u001b[49m\u001b[38;5;241;43m1\u001b[39;49m\u001b[43m,\u001b[49m\u001b[43m \u001b[49m\u001b[38;5;124;43m\"\u001b[39;49m\u001b[38;5;124;43mx\u001b[39;49m\u001b[38;5;124;43m\"\u001b[39;49m\u001b[43m:\u001b[49m\u001b[43m \u001b[49m\u001b[38;5;241;43m2000\u001b[39;49m\u001b[43m,\u001b[49m\u001b[43m \u001b[49m\u001b[38;5;124;43m\"\u001b[39;49m\u001b[38;5;124;43my\u001b[39;49m\u001b[38;5;124;43m\"\u001b[39;49m\u001b[43m:\u001b[49m\u001b[43m \u001b[49m\u001b[38;5;241;43m2000\u001b[39;49m\u001b[43m}\u001b[49m\u001b[43m,\u001b[49m\n\u001b[1;32m      7\u001b[0m \u001b[43m            \u001b[49m\u001b[43mtime\u001b[49m\u001b[38;5;241;43m=\u001b[39;49m\u001b[43mtime_range\u001b[49m\u001b[43m)\u001b[49m\u001b[38;5;241m.\u001b[39mwater\n\u001b[1;32m      9\u001b[0m \u001b[38;5;66;03m#extract from mask the areas classified as water\u001b[39;00m\n\u001b[1;32m     10\u001b[0m water_extent \u001b[38;5;241m=\u001b[39m (water \u001b[38;5;241m==\u001b[39m \u001b[38;5;241m128\u001b[39m)\u001b[38;5;241m.\u001b[39msqueeze()\n",
      "File \u001b[0;32m~/anaconda3/envs/odc_env/lib/python3.8/site-packages/datacube/api/core.py:437\u001b[0m, in \u001b[0;36mDatacube.load\u001b[0;34m(self, product, measurements, output_crs, resolution, resampling, skip_broken_datasets, dask_chunks, like, fuse_func, align, datasets, dataset_predicate, progress_cbk, patch_url, **query)\u001b[0m\n\u001b[1;32m    432\u001b[0m geobox \u001b[38;5;241m=\u001b[39m output_geobox(like\u001b[38;5;241m=\u001b[39mlike, output_crs\u001b[38;5;241m=\u001b[39moutput_crs, resolution\u001b[38;5;241m=\u001b[39mresolution, align\u001b[38;5;241m=\u001b[39malign,\n\u001b[1;32m    433\u001b[0m                        grid_spec\u001b[38;5;241m=\u001b[39mdatacube_product\u001b[38;5;241m.\u001b[39mgrid_spec,\n\u001b[1;32m    434\u001b[0m                        load_hints\u001b[38;5;241m=\u001b[39mdatacube_product\u001b[38;5;241m.\u001b[39mload_hints(),\n\u001b[1;32m    435\u001b[0m                        datasets\u001b[38;5;241m=\u001b[39mdatasets, \u001b[38;5;241m*\u001b[39m\u001b[38;5;241m*\u001b[39mquery)\n\u001b[1;32m    436\u001b[0m group_by \u001b[38;5;241m=\u001b[39m query_group_by(\u001b[38;5;241m*\u001b[39m\u001b[38;5;241m*\u001b[39mquery)\n\u001b[0;32m--> 437\u001b[0m grouped \u001b[38;5;241m=\u001b[39m \u001b[38;5;28;43mself\u001b[39;49m\u001b[38;5;241;43m.\u001b[39;49m\u001b[43mgroup_datasets\u001b[49m\u001b[43m(\u001b[49m\u001b[43mdatasets\u001b[49m\u001b[43m,\u001b[49m\u001b[43m \u001b[49m\u001b[43mgroup_by\u001b[49m\u001b[43m)\u001b[49m\n\u001b[1;32m    439\u001b[0m measurement_dicts \u001b[38;5;241m=\u001b[39m datacube_product\u001b[38;5;241m.\u001b[39mlookup_measurements(measurements)\n\u001b[1;32m    441\u001b[0m \u001b[38;5;66;03m# `extra_dims` put last for backwards compability, but should really be the second position\u001b[39;00m\n\u001b[1;32m    442\u001b[0m \u001b[38;5;66;03m# betwween `grouped` and `geobox`\u001b[39;00m\n",
      "File \u001b[0;32m~/anaconda3/envs/odc_env/lib/python3.8/site-packages/datacube/api/core.py:531\u001b[0m, in \u001b[0;36mDatacube.group_datasets\u001b[0;34m(datasets, group_by)\u001b[0m\n\u001b[1;32m    528\u001b[0m     dss \u001b[38;5;241m=\u001b[39m \u001b[38;5;28mtuple\u001b[39m(\u001b[38;5;28msorted\u001b[39m(group, key\u001b[38;5;241m=\u001b[39mds_sorter))\n\u001b[1;32m    529\u001b[0m     \u001b[38;5;28;01mreturn\u001b[39;00m (norm_axis_value(group_by\u001b[38;5;241m.\u001b[39mgroup_key(dss)), dss)\n\u001b[0;32m--> 531\u001b[0m datasets \u001b[38;5;241m=\u001b[39m \u001b[38;5;28;43msorted\u001b[39;49m\u001b[43m(\u001b[49m\u001b[43mdatasets\u001b[49m\u001b[43m,\u001b[49m\u001b[43m \u001b[49m\u001b[43mkey\u001b[49m\u001b[38;5;241;43m=\u001b[39;49m\u001b[43mgroup_by\u001b[49m\u001b[38;5;241;43m.\u001b[39;49m\u001b[43mgroup_by_func\u001b[49m\u001b[43m)\u001b[49m\n\u001b[1;32m    533\u001b[0m groups \u001b[38;5;241m=\u001b[39m [mk_group(group)\n\u001b[1;32m    534\u001b[0m           \u001b[38;5;28;01mfor\u001b[39;00m _, group \u001b[38;5;129;01min\u001b[39;00m groupby(datasets, group_by\u001b[38;5;241m.\u001b[39mgroup_by_func)]\n\u001b[1;32m    536\u001b[0m groups\u001b[38;5;241m.\u001b[39msort(key\u001b[38;5;241m=\u001b[39m\u001b[38;5;28;01mlambda\u001b[39;00m x: x[\u001b[38;5;241m0\u001b[39m])\n",
      "File \u001b[0;32m~/anaconda3/envs/odc_env/lib/python3.8/site-packages/datacube/api/query.py:383\u001b[0m, in \u001b[0;36msolar_day\u001b[0;34m(dataset, longitude)\u001b[0m\n\u001b[1;32m    380\u001b[0m utc \u001b[38;5;241m=\u001b[39m dataset\u001b[38;5;241m.\u001b[39mcenter_time\n\u001b[1;32m    382\u001b[0m \u001b[38;5;28;01mif\u001b[39;00m longitude \u001b[38;5;129;01mis\u001b[39;00m \u001b[38;5;28;01mNone\u001b[39;00m:\n\u001b[0;32m--> 383\u001b[0m     _lon \u001b[38;5;241m=\u001b[39m \u001b[43m_ds_mid_longitude\u001b[49m\u001b[43m(\u001b[49m\u001b[43mdataset\u001b[49m\u001b[43m)\u001b[49m\n\u001b[1;32m    384\u001b[0m     \u001b[38;5;28;01mif\u001b[39;00m _lon \u001b[38;5;129;01mis\u001b[39;00m \u001b[38;5;28;01mNone\u001b[39;00m:\n\u001b[1;32m    385\u001b[0m         \u001b[38;5;28;01mraise\u001b[39;00m \u001b[38;5;167;01mValueError\u001b[39;00m(\u001b[38;5;124m'\u001b[39m\u001b[38;5;124mCannot compute solar_day: dataset is missing spatial info\u001b[39m\u001b[38;5;124m'\u001b[39m)\n",
      "File \u001b[0;32m~/anaconda3/envs/odc_env/lib/python3.8/site-packages/datacube/api/query.py:368\u001b[0m, in \u001b[0;36m_ds_mid_longitude\u001b[0;34m(dataset)\u001b[0m\n\u001b[1;32m    366\u001b[0m \u001b[38;5;28;01mif\u001b[39;00m \u001b[38;5;28mhasattr\u001b[39m(m, \u001b[38;5;124m'\u001b[39m\u001b[38;5;124mlon\u001b[39m\u001b[38;5;124m'\u001b[39m):\n\u001b[1;32m    367\u001b[0m     lon \u001b[38;5;241m=\u001b[39m m\u001b[38;5;241m.\u001b[39mlon\n\u001b[0;32m--> 368\u001b[0m     \u001b[38;5;28;01mreturn\u001b[39;00m (\u001b[43mlon\u001b[49m\u001b[38;5;241;43m.\u001b[39;49m\u001b[43mbegin\u001b[49m \u001b[38;5;241m+\u001b[39m lon\u001b[38;5;241m.\u001b[39mend)\u001b[38;5;241m*\u001b[39m\u001b[38;5;241m0.5\u001b[39m\n\u001b[1;32m    369\u001b[0m \u001b[38;5;28;01mreturn\u001b[39;00m \u001b[38;5;28;01mNone\u001b[39;00m\n",
      "\u001b[0;31mAttributeError\u001b[0m: 'NoneType' object has no attribute 'begin'"
     ]
    }
   ],
   "source": [
    "# Load water observations\n",
    "water = dc.load(\n",
    "            product=\"s2a_sen2cor_granule\",\n",
    "            group_by=\"solar_day\",\n",
    "            like=ds.geobox,\n",
    "            dask_chunks={\"time\": 1, \"x\": 2000, \"y\": 2000},\n",
    "            time=time_range).water\n",
    "\n",
    "#extract from mask the areas classified as water\n",
    "water_extent = (water == 128).squeeze()\n",
    "\n",
    "print(water_extent)"
   ]
  }
 ],
 "metadata": {
  "kernelspec": {
   "display_name": "Python 3 (ipykernel)",
   "language": "python",
   "name": "python3"
  },
  "language_info": {
   "codemirror_mode": {
    "name": "ipython",
    "version": 3
   },
   "file_extension": ".py",
   "mimetype": "text/x-python",
   "name": "python",
   "nbconvert_exporter": "python",
   "pygments_lexer": "ipython3",
   "version": "3.8.16"
  }
 },
 "nbformat": 4,
 "nbformat_minor": 5
}
