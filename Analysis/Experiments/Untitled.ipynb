{
 "cells": [
  {
   "cell_type": "code",
   "execution_count": 1,
   "id": "bbf0a8b3-05ef-4ac4-b524-5228daa3c684",
   "metadata": {},
   "outputs": [],
   "source": [
    "import datacube\n",
    "from deafrica_tools.plotting import rgb, display_map\n",
    "import datacube\n",
    "import odc.algo\n",
    "import matplotlib.pyplot as plt\n",
    "from datacube.utils.cog import write_cog\n",
    "from datacube.utils.geometry import CRS\n",
    "\n",
    "from deafrica_tools.plotting import display_map, rgb\n",
    "import xarray as xr\n",
    "import numpy as np"
   ]
  },
  {
   "cell_type": "code",
   "execution_count": 31,
   "id": "8155e908-f548-4c43-8ff2-c79814da02d4",
   "metadata": {},
   "outputs": [
    {
     "data": {
      "text/plain": [
       "[[[[80.06369921260253, 16.278761841360236],\n",
       "   [81.09135078500897, 16.280813604615744],\n",
       "   [81.09090724198668, 15.288158060683616],\n",
       "   [80.06824451551739, 15.286237505336244],\n",
       "   [80.06369921260253, 16.278761841360236]]],\n",
       " [[[68.99980540161629, 22.607037481513167],\n",
       "   [70.06807921768983, 22.60348434380622],\n",
       "   [70.06063698652656, 21.611674002745403],\n",
       "   [68.99980675786233, 21.615055566227934],\n",
       "   [68.99980540161629, 22.607037481513167]]],\n",
       " [[[116.4454581332781, -22.693576627882877],\n",
       "   [116.45784484844656, -22.64574144530756],\n",
       "   [116.49601666883629, -22.497962748949952],\n",
       "   [116.53456125650072, -22.350292136201087],\n",
       "   [116.57247543410112, -22.202471162389056],\n",
       "   [116.61050038272784, -22.05473257795736],\n",
       "   [116.64828440813075, -21.906987226074104],\n",
       "   [116.68589999372499, -21.75918216938705],\n",
       "   [116.70042506809135, -21.702353555872303],\n",
       "   [117.09435955273453, -21.7033904338919],\n",
       "   [117.09502474072819, -22.69536025116618],\n",
       "   [116.4454581332781, -22.693576627882877]]],\n",
       " [[[117.0944179392304, -21.790460017507968],\n",
       "   [117.06831986871053, -21.900980796845587],\n",
       "   [117.0336606466172, -22.048990172157968],\n",
       "   [116.99886524212857, -22.1969646109152],\n",
       "   [116.96419396578192, -22.344976629088045],\n",
       "   [116.92934313121577, -22.49292873181711],\n",
       "   [116.89486043877862, -22.64097857988741],\n",
       "   [116.88218672043605, -22.69477582634475],\n",
       "   [116.02605001201175, -22.69242498911063],\n",
       "   [116.032866526591, -21.70059646984541],\n",
       "   [117.09435955273453, -21.7033904338919],\n",
       "   [117.0944179392304, -21.790460017507968]]],\n",
       " [[[69.97945273085331, 23.507476283560575],\n",
       "   [71.05449573394014, 23.49700545759287],\n",
       "   [71.03954085114422, 22.505769285811134],\n",
       "   [69.97231852179956, 22.515749963087114],\n",
       "   [69.97945273085331, 23.507476283560575]]]]"
      ]
     },
     "execution_count": 31,
     "metadata": {},
     "output_type": "execute_result"
    }
   ],
   "source": [
    "# Create a Data Cube instance\n",
    "dc = datacube.Datacube(app='datacube-example')\n",
    "\n",
    "# Define the product and query parameters\n",
    "product_name = ['s2a_sen2cor_granule','s2b_sen2cor_granule']\n",
    "# query = {'time': ('01-01-2023', '01-07-2023')}\n",
    "\n",
    "p = []\n",
    "\n",
    "# Search for datasets\n",
    "for j in product_name:\n",
    "    datasets = dc.find_datasets(product=product_name)\n",
    "\n",
    "    # Check if datasets exist\n",
    "    d = []\n",
    "    if len(datasets) == 0:\n",
    "        print('No datasets found for the specified query parameters.')\n",
    "    else:\n",
    "        # Retrieve the dataset location\n",
    "        for i in datasets:\n",
    "            ds_loc = i.metadata_doc['geometry']['coordinates']\n",
    "            d.append(ds_loc)\n",
    "    # my_list = [1, 2, 3, 2, 4, 3, 5, 6, 5]\n",
    "    unique_list = [x for i, x in enumerate(d) if x not in d[:i]]\n",
    "    p+=unique_list\n",
    "unique_list = [x for i, x in enumerate(p) if x not in p[:i]]\n",
    "unique_list"
   ]
  }
 ],
 "metadata": {
  "kernelspec": {
   "display_name": "Python 3 (ipykernel)",
   "language": "python",
   "name": "python3"
  },
  "language_info": {
   "codemirror_mode": {
    "name": "ipython",
    "version": 3
   },
   "file_extension": ".py",
   "mimetype": "text/x-python",
   "name": "python",
   "nbconvert_exporter": "python",
   "pygments_lexer": "ipython3",
   "version": "3.8.16"
  }
 },
 "nbformat": 4,
 "nbformat_minor": 5
}
