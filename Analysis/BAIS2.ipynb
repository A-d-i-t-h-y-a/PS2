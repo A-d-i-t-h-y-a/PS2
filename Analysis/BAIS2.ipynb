{
 "cells": [
  {
   "cell_type": "code",
   "execution_count": 9,
   "id": "7a297841-a880-4ae6-ae66-e02301e7b7af",
   "metadata": {},
   "outputs": [],
   "source": [
    "import datacube\n",
    "import odc.algo\n",
    "import numpy as np\n",
    "import matplotlib.pyplot as plt"
   ]
  },
  {
   "cell_type": "code",
   "execution_count": 3,
   "id": "7beb3044-a165-496c-be70-ca8428806f0f",
   "metadata": {},
   "outputs": [],
   "source": [
    "dc = datacube.Datacube(app = \"BAIS2\")"
   ]
  },
  {
   "cell_type": "code",
   "execution_count": 4,
   "id": "beaf9190-a1f1-417e-a950-4c284523dde9",
   "metadata": {},
   "outputs": [
    {
     "name": "stdout",
     "output_type": "stream",
     "text": [
      "<xarray.Dataset>\n",
      "Dimensions:      (time: 2, y: 691, x: 1080)\n",
      "Coordinates:\n",
      "  * time         (time) datetime64[ns] 2022-08-23T05:14:41.977841 2023-02-09T...\n",
      "  * y            (y) float64 1.859e+05 1.859e+05 ... 1.653e+05 1.652e+05\n",
      "  * x            (x) float64 -6.623e+06 -6.622e+06 ... -6.59e+06 -6.59e+06\n",
      "    spatial_ref  int32 3577\n",
      "Data variables:\n",
      "    scl          (time, y, x) uint8 10 10 10 10 10 10 10 10 ... 6 6 6 6 6 6 6 6\n",
      "    red          (time, y, x) uint16 2220 2285 2348 2323 ... 1144 1160 1149 1147\n",
      "    green        (time, y, x) uint16 2315 2532 2302 2392 ... 1282 1287 1277 1277\n",
      "    blue         (time, y, x) uint16 2047 1900 2097 2040 ... 1344 1320 1322 1311\n",
      "    B06_20m      (time, y, x) uint16 2670 2792 2703 2532 ... 1116 1120 1124 1136\n",
      "    B07_20m      (time, y, x) uint16 2723 2836 2801 2552 ... 1115 1140 1112 1136\n",
      "    B12_20m      (time, y, x) uint16 1619 1646 1671 1690 ... 1059 1052 1059 1057\n",
      "    B8A_20m      (time, y, x) uint16 2674 2750 2679 2492 ... 1108 1112 1118 1128\n",
      "Attributes:\n",
      "    crs:           EPSG:3577\n",
      "    grid_mapping:  spatial_ref\n"
     ]
    }
   ],
   "source": [
    "aoi = {\n",
    "    'longitude': (80.78694696, 81.02203692),\n",
    "    'latitude': (15.75418332, 15.85828652),\n",
    "    'time': ('2022-01-01', '2023-12-31')\n",
    "}\n",
    "ds = dc.load(product='s2a_sen2cor_granule',\n",
    "             measurements=['scl', 'red', 'green', 'blue', 'B06_20m', 'B07_20m', 'B12_20m', 'B8A_20m'],\n",
    "             resolution = (-30, 30),\n",
    "             output_crs = \"EPSG:3577\",\n",
    "             **aoi)\n",
    "print(ds)"
   ]
  },
  {
   "cell_type": "code",
   "execution_count": 5,
   "id": "ec3c2e05-18d6-41b1-8579-63c5dba31c63",
   "metadata": {},
   "outputs": [
    {
     "name": "stdout",
     "output_type": "stream",
     "text": [
      "<xarray.DataArray (time: 2, y: 691, x: 1080)>\n",
      "array([[[ 4.46748438e+04,  4.82986914e+04,  4.19658789e+04, ...,\n",
      "          2.75172534e+03,  2.12426001e+03,  1.69931995e+03],\n",
      "        [ 4.22911953e+04,  4.59753203e+04,  4.62381602e+04, ...,\n",
      "          2.93703687e+03,  2.89363550e+03,  3.22895117e+03],\n",
      "        [ 4.45524570e+04,  4.62960508e+04,  6.31610000e+04, ...,\n",
      "          2.08383887e+03,  3.03008496e+03,  3.24639062e+03],\n",
      "        ...,\n",
      "        [ 2.25883057e+03,  2.68310010e+03,  2.11054370e+03, ...,\n",
      "          5.14987488e+02, -2.12968567e+02,  4.97169952e+02],\n",
      "        [ 1.80355493e+03,  3.27459717e+03,  1.91205261e+03, ...,\n",
      "          5.85500793e+02,  7.17775513e+02,  1.18131493e+02],\n",
      "        [ 2.15712622e+03,  2.42963306e+03,  2.19342725e+03, ...,\n",
      "          5.30428589e+02,  1.07132141e+03,  1.48367285e+03]],\n",
      "\n",
      "       [[ 4.77643938e+05,  2.35182047e+05,  1.54944891e+05, ...,\n",
      "          4.18523102e+02, -5.41081909e+02, -2.89718048e+02],\n",
      "        [ 3.36031812e+05,  2.41970328e+05,  1.27252469e+05, ...,\n",
      "          1.10647354e+02, -2.16894287e+02, -8.02738495e+01],\n",
      "        [ 2.45772000e+05,  2.22858984e+05,  2.73050219e+05, ...,\n",
      "         -8.69475632e+01,  2.18727829e+02, -4.58916290e+02],\n",
      "        ...,\n",
      "        [ 2.19112988e+03,  1.64790857e+03,  1.70561609e+03, ...,\n",
      "          5.36681702e+02,  2.42726715e+02,  4.83705475e+02],\n",
      "        [ 1.65113660e+03,  1.49393494e+03,  2.25963257e+03, ...,\n",
      "          6.52093140e+02,  7.00614319e+02,  6.70823181e+02],\n",
      "        [ 1.05635071e+03,  1.58530566e+03,  1.80477563e+03, ...,\n",
      "          3.20325562e+02,  2.91438660e+02,  5.84062378e+02]]],\n",
      "      dtype=float32)\n",
      "Coordinates:\n",
      "  * time         (time) datetime64[ns] 2022-08-23T05:14:41.977841 2023-02-09T...\n",
      "  * y            (y) float64 1.859e+05 1.859e+05 ... 1.653e+05 1.652e+05\n",
      "  * x            (x) float64 -6.623e+06 -6.622e+06 ... -6.59e+06 -6.59e+06\n",
      "    spatial_ref  int32 3577\n"
     ]
    }
   ],
   "source": [
    "# convert dataset to float32 datatype so no-data values are set to NaN\n",
    "dataset = ds\n",
    "dataset =  odc.algo.to_f32(dataset)\n",
    "\n",
    "# Calculate the components that make up the NDVI calculation\n",
    "# (1-((B06*B07*B8A)/B04)**0.5)*((B12-B8A)/((B12+B8A)**0.5)+1)\n",
    "a = (1-((dataset.B06_20m*dataset.B07_20m*dataset.B8A_20m)/dataset.red)**0.5)\n",
    "b = ((dataset.B12_20m-dataset.B8A_20m)/((dataset.B12_20m+dataset.B8A_20m)**0.5)+1)\n",
    "\n",
    "# Calculate NDVI and store it as a measurement in the original dataset\n",
    "ndvi = a*b\n",
    "print(ndvi)"
   ]
  },
  {
   "cell_type": "code",
   "execution_count": 11,
   "id": "fd298d06-5abb-4006-818a-225c930f32d8",
   "metadata": {},
   "outputs": [
    {
     "ename": "TypeError",
     "evalue": "unsupported operand type(s) for -: 'list' and 'list'",
     "output_type": "error",
     "traceback": [
      "\u001b[0;31m---------------------------------------------------------------------------\u001b[0m",
      "\u001b[0;31mTypeError\u001b[0m                                 Traceback (most recent call last)",
      "Cell \u001b[0;32mIn[11], line 34\u001b[0m\n\u001b[1;32m     30\u001b[0m                 \u001b[38;5;28;01mreturn\u001b[39;00m colors[i] \u001b[38;5;241m+\u001b[39m (colors[i\u001b[38;5;241m+\u001b[39m\u001b[38;5;241m1\u001b[39m] \u001b[38;5;241m-\u001b[39m colors[i]) \u001b[38;5;241m*\u001b[39m ((index \u001b[38;5;241m-\u001b[39m positions[i]) \u001b[38;5;241m/\u001b[39m (positions[i\u001b[38;5;241m+\u001b[39m\u001b[38;5;241m1\u001b[39m] \u001b[38;5;241m-\u001b[39m positions[i]))[:\u001b[38;5;241m3\u001b[39m]\n\u001b[1;32m     32\u001b[0m \u001b[38;5;66;03m# index = (1-((B06*B07*B8A)/B04)**0.5)*((B12-B8A)/((B12+B8A)**0.5)+1)\u001b[39;00m\n\u001b[0;32m---> 34\u001b[0m \u001b[38;5;28mprint\u001b[39m(\u001b[43mcolorBlend\u001b[49m\u001b[43m(\u001b[49m\u001b[43mnp\u001b[49m\u001b[38;5;241;43m.\u001b[39;49m\u001b[43marray\u001b[49m\u001b[43m(\u001b[49m\u001b[43mindex\u001b[49m\u001b[43m)\u001b[49m\u001b[38;5;241;43m.\u001b[39;49m\u001b[43mall\u001b[49m\u001b[43m(\u001b[49m\u001b[43m)\u001b[49m\u001b[43m,\u001b[49m\u001b[43m \u001b[49m\u001b[43m[\u001b[49m\u001b[38;5;28;43mmin\u001b[39;49m\u001b[43m,\u001b[49m\u001b[43m \u001b[49m\u001b[38;5;28;43mmin\u001b[39;49m\u001b[43m,\u001b[49m\u001b[43m \u001b[49m\u001b[43mzero\u001b[49m\u001b[43m,\u001b[49m\u001b[43m \u001b[49m\u001b[38;5;28;43mmax\u001b[39;49m\u001b[43m]\u001b[49m\u001b[43m,\u001b[49m\n\u001b[1;32m     35\u001b[0m \u001b[43m[\u001b[49m\n\u001b[1;32m     36\u001b[0m \u001b[43munderflow_color\u001b[49m\u001b[43m,\u001b[49m\n\u001b[1;32m     37\u001b[0m \u001b[43mlow_color\u001b[49m\u001b[43m,\u001b[49m\n\u001b[1;32m     38\u001b[0m \u001b[43mzero_color\u001b[49m\u001b[43m,\u001b[49m\u001b[43m \u001b[49m\u001b[38;5;66;43;03m# divergent step at zero\u001b[39;49;00m\n\u001b[1;32m     39\u001b[0m \u001b[43mhigh_color\u001b[49m\u001b[43m,\u001b[49m\n\u001b[1;32m     40\u001b[0m \u001b[43moverflow_color\u001b[49m\u001b[43m \u001b[49m\u001b[38;5;66;43;03m# uncomment to see overflows\u001b[39;49;00m\n\u001b[1;32m     41\u001b[0m \u001b[43m]\u001b[49m\u001b[43m)\u001b[49m)\n\u001b[1;32m     43\u001b[0m plt\u001b[38;5;241m.\u001b[39mfigure(figsize\u001b[38;5;241m=\u001b[39m(\u001b[38;5;241m8\u001b[39m, \u001b[38;5;241m8\u001b[39m))\n\u001b[1;32m     44\u001b[0m ndvi\u001b[38;5;241m.\u001b[39mplot(col\u001b[38;5;241m=\u001b[39m\u001b[38;5;124m'\u001b[39m\u001b[38;5;124mtime\u001b[39m\u001b[38;5;124m'\u001b[39m, vmin\u001b[38;5;241m=\u001b[39m\u001b[38;5;241m0\u001b[39m, vmax\u001b[38;5;241m=\u001b[39m\u001b[38;5;241m1\u001b[39m, col_wrap\u001b[38;5;241m=\u001b[39m\u001b[38;5;241m3\u001b[39m, cmap \u001b[38;5;241m=\u001b[39m \u001b[38;5;124m\"\u001b[39m\u001b[38;5;124mplasma\u001b[39m\u001b[38;5;124m\"\u001b[39m)\n",
      "Cell \u001b[0;32mIn[11], line 30\u001b[0m, in \u001b[0;36mcolorBlend\u001b[0;34m(index, positions, colors)\u001b[0m\n\u001b[1;32m     28\u001b[0m \u001b[38;5;28;01mfor\u001b[39;00m i \u001b[38;5;129;01min\u001b[39;00m \u001b[38;5;28mrange\u001b[39m(\u001b[38;5;28mlen\u001b[39m(positions) \u001b[38;5;241m-\u001b[39m \u001b[38;5;241m1\u001b[39m):\n\u001b[1;32m     29\u001b[0m     \u001b[38;5;28;01mif\u001b[39;00m index \u001b[38;5;241m>\u001b[39m\u001b[38;5;241m=\u001b[39m positions[i] \u001b[38;5;129;01mand\u001b[39;00m index \u001b[38;5;241m<\u001b[39m positions[i\u001b[38;5;241m+\u001b[39m\u001b[38;5;241m1\u001b[39m]:\n\u001b[0;32m---> 30\u001b[0m         \u001b[38;5;28;01mreturn\u001b[39;00m colors[i] \u001b[38;5;241m+\u001b[39m (\u001b[43mcolors\u001b[49m\u001b[43m[\u001b[49m\u001b[43mi\u001b[49m\u001b[38;5;241;43m+\u001b[39;49m\u001b[38;5;241;43m1\u001b[39;49m\u001b[43m]\u001b[49m\u001b[43m \u001b[49m\u001b[38;5;241;43m-\u001b[39;49m\u001b[43m \u001b[49m\u001b[43mcolors\u001b[49m\u001b[43m[\u001b[49m\u001b[43mi\u001b[49m\u001b[43m]\u001b[49m) \u001b[38;5;241m*\u001b[39m ((index \u001b[38;5;241m-\u001b[39m positions[i]) \u001b[38;5;241m/\u001b[39m (positions[i\u001b[38;5;241m+\u001b[39m\u001b[38;5;241m1\u001b[39m] \u001b[38;5;241m-\u001b[39m positions[i]))[:\u001b[38;5;241m3\u001b[39m]\n",
      "\u001b[0;31mTypeError\u001b[0m: unsupported operand type(s) for -: 'list' and 'list'"
     ]
    }
   ],
   "source": [
    "min = 0;\n",
    "max = 0.99;\n",
    "zero = 0.5;\n",
    "\n",
    "# // colorBlend will return a color when the index is between min and max and white when it is less than min.\n",
    "# // To see black when it is more than max, uncomment the last line of colorBlend.\n",
    "# // The min/max values were computed automatically and may be poorly specified, feel free to change them to tweak the displayed range.\n",
    "# // This index crosses zero, so a diverging color map is used. To tweak the value of the break in the color map, change the variable 'zero'.\n",
    "\n",
    "underflow_color = [1, 1, 1]\n",
    "low_color = [0/255, 0/255, 255/255]\n",
    "high_color = [255/255, 20/255, 20/255]\n",
    "zero_color = [250/255, 255/255, 10/255]\n",
    "overflow_color = [255/255, 0/255, 255/255]\n",
    "index = (1-((dataset.B06_20m*dataset.B07_20m*dataset.B8A_20m)/dataset.red)**0.5)*((dataset.B12_20m-dataset.B8A_20m)/((dataset.B12_20m+dataset.B8A_20m)**0.5)+1)\n",
    "def colorBlend(index, positions, colors):\n",
    "    \"\"\"\n",
    "    Returns a color when the index is between positions and white when it is less than positions.\n",
    "    To see black when it is more than the maximum position, uncomment the last line of this function.\n",
    "    \"\"\"\n",
    "    if index < positions[0]:\n",
    "        return colors[0]\n",
    "    elif index >= positions[-1]:\n",
    "        # Uncomment to see black when it is more than the maximum position\n",
    "        # return [0, 0, 0]\n",
    "        return colors[-1]\n",
    "    else:\n",
    "        for i in range(len(positions) - 1):\n",
    "            if index >= positions[i] and index < positions[i+1]:\n",
    "                return colors[i] + (colors[i+1] - colors[i]) * ((index - positions[i]) / (positions[i+1] - positions[i]))[:3]\n",
    "\n",
    "# index = (1-((B06*B07*B8A)/B04)**0.5)*((B12-B8A)/((B12+B8A)**0.5)+1)\n",
    "\n",
    "print(colorBlend(np.array(index).all(), [min, min, zero, max],\n",
    "[\n",
    "underflow_color,\n",
    "low_color,\n",
    "zero_color, # divergent step at zero\n",
    "high_color,\n",
    "overflow_color # uncomment to see overflows\n",
    "]))\n",
    "\n",
    "plt.figure(figsize=(8, 8))\n",
    "ndvi.plot(col='time', vmin=0, vmax=1, col_wrap=3, cmap = \"plasma\")\n",
    "plt.show()"
   ]
  }
 ],
 "metadata": {
  "kernelspec": {
   "display_name": "Python 3 (ipykernel)",
   "language": "python",
   "name": "python3"
  },
  "language_info": {
   "codemirror_mode": {
    "name": "ipython",
    "version": 3
   },
   "file_extension": ".py",
   "mimetype": "text/x-python",
   "name": "python",
   "nbconvert_exporter": "python",
   "pygments_lexer": "ipython3",
   "version": "3.8.16"
  }
 },
 "nbformat": 4,
 "nbformat_minor": 5
}
